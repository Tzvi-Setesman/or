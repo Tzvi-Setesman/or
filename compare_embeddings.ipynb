{
 "cells": [
  {
   "cell_type": "code",
   "execution_count": 1,
   "metadata": {
    "colab": {
     "base_uri": "https://localhost:8080/"
    },
    "id": "K5Ei636rwh3G",
    "outputId": "45297550-f29a-4306-a553-c770fcf81d76"
   },
   "outputs": [
    {
     "name": "stdout",
     "output_type": "stream",
     "text": [
      "Requirement already satisfied: FlagEmbedding in c:\\users\\yehoshd\\anaconda3\\envs\\gpu_env\\lib\\site-packages (1.2.3)\n",
      "Requirement already satisfied: torch>=1.6.0 in c:\\users\\yehoshd\\anaconda3\\envs\\gpu_env\\lib\\site-packages (from FlagEmbedding) (2.2.0)\n",
      "Requirement already satisfied: transformers>=4.33.0 in c:\\users\\yehoshd\\anaconda3\\envs\\gpu_env\\lib\\site-packages (from FlagEmbedding) (4.37.2)\n",
      "Requirement already satisfied: datasets in c:\\users\\yehoshd\\anaconda3\\envs\\gpu_env\\lib\\site-packages (from FlagEmbedding) (2.17.0)\n",
      "Requirement already satisfied: accelerate>=0.20.1 in c:\\users\\yehoshd\\anaconda3\\envs\\gpu_env\\lib\\site-packages (from FlagEmbedding) (0.27.2)\n",
      "Requirement already satisfied: sentence-transformers in c:\\users\\yehoshd\\anaconda3\\envs\\gpu_env\\lib\\site-packages (from FlagEmbedding) (2.3.1)\n",
      "Requirement already satisfied: numpy>=1.17 in c:\\users\\yehoshd\\anaconda3\\envs\\gpu_env\\lib\\site-packages (from accelerate>=0.20.1->FlagEmbedding) (1.26.3)\n",
      "Requirement already satisfied: packaging>=20.0 in c:\\users\\yehoshd\\anaconda3\\envs\\gpu_env\\lib\\site-packages (from accelerate>=0.20.1->FlagEmbedding) (23.2)\n",
      "Requirement already satisfied: psutil in c:\\users\\yehoshd\\anaconda3\\envs\\gpu_env\\lib\\site-packages (from accelerate>=0.20.1->FlagEmbedding) (5.9.0)\n",
      "Requirement already satisfied: pyyaml in c:\\users\\yehoshd\\anaconda3\\envs\\gpu_env\\lib\\site-packages (from accelerate>=0.20.1->FlagEmbedding) (6.0.1)\n",
      "Requirement already satisfied: huggingface-hub in c:\\users\\yehoshd\\anaconda3\\envs\\gpu_env\\lib\\site-packages (from accelerate>=0.20.1->FlagEmbedding) (0.20.3)\n",
      "Requirement already satisfied: safetensors>=0.3.1 in c:\\users\\yehoshd\\anaconda3\\envs\\gpu_env\\lib\\site-packages (from accelerate>=0.20.1->FlagEmbedding) (0.4.2)\n",
      "Requirement already satisfied: filelock in c:\\users\\yehoshd\\anaconda3\\envs\\gpu_env\\lib\\site-packages (from torch>=1.6.0->FlagEmbedding) (3.13.1)\n",
      "Requirement already satisfied: typing-extensions>=4.8.0 in c:\\users\\yehoshd\\anaconda3\\envs\\gpu_env\\lib\\site-packages (from torch>=1.6.0->FlagEmbedding) (4.9.0)\n",
      "Requirement already satisfied: sympy in c:\\users\\yehoshd\\anaconda3\\envs\\gpu_env\\lib\\site-packages (from torch>=1.6.0->FlagEmbedding) (1.12)\n",
      "Requirement already satisfied: networkx in c:\\users\\yehoshd\\anaconda3\\envs\\gpu_env\\lib\\site-packages (from torch>=1.6.0->FlagEmbedding) (3.1)\n",
      "Requirement already satisfied: jinja2 in c:\\users\\yehoshd\\anaconda3\\envs\\gpu_env\\lib\\site-packages (from torch>=1.6.0->FlagEmbedding) (3.1.3)\n",
      "Requirement already satisfied: fsspec in c:\\users\\yehoshd\\anaconda3\\envs\\gpu_env\\lib\\site-packages (from torch>=1.6.0->FlagEmbedding) (2023.10.0)\n",
      "Requirement already satisfied: regex!=2019.12.17 in c:\\users\\yehoshd\\anaconda3\\envs\\gpu_env\\lib\\site-packages (from transformers>=4.33.0->FlagEmbedding) (2023.12.25)\n",
      "Requirement already satisfied: requests in c:\\users\\yehoshd\\anaconda3\\envs\\gpu_env\\lib\\site-packages (from transformers>=4.33.0->FlagEmbedding) (2.31.0)\n",
      "Requirement already satisfied: tokenizers<0.19,>=0.14 in c:\\users\\yehoshd\\anaconda3\\envs\\gpu_env\\lib\\site-packages (from transformers>=4.33.0->FlagEmbedding) (0.15.2)\n",
      "Requirement already satisfied: tqdm>=4.27 in c:\\users\\yehoshd\\anaconda3\\envs\\gpu_env\\lib\\site-packages (from transformers>=4.33.0->FlagEmbedding) (4.66.2)\n",
      "Requirement already satisfied: pyarrow>=12.0.0 in c:\\users\\yehoshd\\anaconda3\\envs\\gpu_env\\lib\\site-packages (from datasets->FlagEmbedding) (15.0.0)\n",
      "Requirement already satisfied: pyarrow-hotfix in c:\\users\\yehoshd\\anaconda3\\envs\\gpu_env\\lib\\site-packages (from datasets->FlagEmbedding) (0.6)\n",
      "Requirement already satisfied: dill<0.3.9,>=0.3.0 in c:\\users\\yehoshd\\anaconda3\\envs\\gpu_env\\lib\\site-packages (from datasets->FlagEmbedding) (0.3.8)\n",
      "Requirement already satisfied: pandas in c:\\users\\yehoshd\\anaconda3\\envs\\gpu_env\\lib\\site-packages (from datasets->FlagEmbedding) (2.2.0)\n",
      "Requirement already satisfied: xxhash in c:\\users\\yehoshd\\anaconda3\\envs\\gpu_env\\lib\\site-packages (from datasets->FlagEmbedding) (3.4.1)\n",
      "Requirement already satisfied: multiprocess in c:\\users\\yehoshd\\anaconda3\\envs\\gpu_env\\lib\\site-packages (from datasets->FlagEmbedding) (0.70.16)\n",
      "Requirement already satisfied: aiohttp in c:\\users\\yehoshd\\anaconda3\\envs\\gpu_env\\lib\\site-packages (from datasets->FlagEmbedding) (3.9.3)\n",
      "Requirement already satisfied: scikit-learn in c:\\users\\yehoshd\\anaconda3\\envs\\gpu_env\\lib\\site-packages (from sentence-transformers->FlagEmbedding) (1.4.0)\n",
      "Requirement already satisfied: scipy in c:\\users\\yehoshd\\anaconda3\\envs\\gpu_env\\lib\\site-packages (from sentence-transformers->FlagEmbedding) (1.12.0)\n",
      "Requirement already satisfied: nltk in c:\\users\\yehoshd\\anaconda3\\envs\\gpu_env\\lib\\site-packages (from sentence-transformers->FlagEmbedding) (3.8.1)\n",
      "Requirement already satisfied: sentencepiece in c:\\users\\yehoshd\\anaconda3\\envs\\gpu_env\\lib\\site-packages (from sentence-transformers->FlagEmbedding) (0.1.99)\n",
      "Requirement already satisfied: Pillow in c:\\users\\yehoshd\\anaconda3\\envs\\gpu_env\\lib\\site-packages (from sentence-transformers->FlagEmbedding) (10.2.0)\n",
      "Requirement already satisfied: aiosignal>=1.1.2 in c:\\users\\yehoshd\\anaconda3\\envs\\gpu_env\\lib\\site-packages (from aiohttp->datasets->FlagEmbedding) (1.3.1)\n",
      "Requirement already satisfied: attrs>=17.3.0 in c:\\users\\yehoshd\\anaconda3\\envs\\gpu_env\\lib\\site-packages (from aiohttp->datasets->FlagEmbedding) (23.2.0)\n",
      "Requirement already satisfied: frozenlist>=1.1.1 in c:\\users\\yehoshd\\anaconda3\\envs\\gpu_env\\lib\\site-packages (from aiohttp->datasets->FlagEmbedding) (1.4.1)\n",
      "Requirement already satisfied: multidict<7.0,>=4.5 in c:\\users\\yehoshd\\anaconda3\\envs\\gpu_env\\lib\\site-packages (from aiohttp->datasets->FlagEmbedding) (6.0.5)\n",
      "Requirement already satisfied: yarl<2.0,>=1.0 in c:\\users\\yehoshd\\anaconda3\\envs\\gpu_env\\lib\\site-packages (from aiohttp->datasets->FlagEmbedding) (1.9.4)\n",
      "Requirement already satisfied: charset-normalizer<4,>=2 in c:\\users\\yehoshd\\anaconda3\\envs\\gpu_env\\lib\\site-packages (from requests->transformers>=4.33.0->FlagEmbedding) (2.0.4)\n",
      "Requirement already satisfied: idna<4,>=2.5 in c:\\users\\yehoshd\\anaconda3\\envs\\gpu_env\\lib\\site-packages (from requests->transformers>=4.33.0->FlagEmbedding) (3.4)\n",
      "Requirement already satisfied: urllib3<3,>=1.21.1 in c:\\users\\yehoshd\\anaconda3\\envs\\gpu_env\\lib\\site-packages (from requests->transformers>=4.33.0->FlagEmbedding) (2.1.0)\n",
      "Requirement already satisfied: certifi>=2017.4.17 in c:\\users\\yehoshd\\anaconda3\\envs\\gpu_env\\lib\\site-packages (from requests->transformers>=4.33.0->FlagEmbedding) (2024.2.2)\n",
      "Requirement already satisfied: colorama in c:\\users\\yehoshd\\anaconda3\\envs\\gpu_env\\lib\\site-packages (from tqdm>=4.27->transformers>=4.33.0->FlagEmbedding) (0.4.6)\n",
      "Requirement already satisfied: MarkupSafe>=2.0 in c:\\users\\yehoshd\\anaconda3\\envs\\gpu_env\\lib\\site-packages (from jinja2->torch>=1.6.0->FlagEmbedding) (2.1.3)\n",
      "Requirement already satisfied: click in c:\\users\\yehoshd\\anaconda3\\envs\\gpu_env\\lib\\site-packages (from nltk->sentence-transformers->FlagEmbedding) (8.1.7)\n",
      "Requirement already satisfied: joblib in c:\\users\\yehoshd\\anaconda3\\envs\\gpu_env\\lib\\site-packages (from nltk->sentence-transformers->FlagEmbedding) (1.3.2)\n",
      "Requirement already satisfied: python-dateutil>=2.8.2 in c:\\users\\yehoshd\\anaconda3\\envs\\gpu_env\\lib\\site-packages (from pandas->datasets->FlagEmbedding) (2.8.2)\n",
      "Requirement already satisfied: pytz>=2020.1 in c:\\users\\yehoshd\\anaconda3\\envs\\gpu_env\\lib\\site-packages (from pandas->datasets->FlagEmbedding) (2024.1)\n",
      "Requirement already satisfied: tzdata>=2022.7 in c:\\users\\yehoshd\\anaconda3\\envs\\gpu_env\\lib\\site-packages (from pandas->datasets->FlagEmbedding) (2024.1)\n",
      "Requirement already satisfied: threadpoolctl>=2.0.0 in c:\\users\\yehoshd\\anaconda3\\envs\\gpu_env\\lib\\site-packages (from scikit-learn->sentence-transformers->FlagEmbedding) (3.2.0)\n",
      "Requirement already satisfied: mpmath>=0.19 in c:\\users\\yehoshd\\anaconda3\\envs\\gpu_env\\lib\\site-packages (from sympy->torch>=1.6.0->FlagEmbedding) (1.3.0)\n",
      "Requirement already satisfied: six>=1.5 in c:\\users\\yehoshd\\anaconda3\\envs\\gpu_env\\lib\\site-packages (from python-dateutil>=2.8.2->pandas->datasets->FlagEmbedding) (1.16.0)\n",
      "Requirement already satisfied: angle-emb in c:\\users\\yehoshd\\anaconda3\\envs\\gpu_env\\lib\\site-packages (0.3.3)\n",
      "Requirement already satisfied: bitsandbytes in c:\\users\\yehoshd\\anaconda3\\envs\\gpu_env\\lib\\site-packages (from angle-emb) (0.42.0)\n",
      "Requirement already satisfied: boltons in c:\\users\\yehoshd\\anaconda3\\envs\\gpu_env\\lib\\site-packages (from angle-emb) (23.1.1)\n",
      "Requirement already satisfied: datasets in c:\\users\\yehoshd\\anaconda3\\envs\\gpu_env\\lib\\site-packages (from angle-emb) (2.17.0)\n",
      "Requirement already satisfied: peft in c:\\users\\yehoshd\\anaconda3\\envs\\gpu_env\\lib\\site-packages (from angle-emb) (0.8.2)\n",
      "Requirement already satisfied: prettytable in c:\\users\\yehoshd\\anaconda3\\envs\\gpu_env\\lib\\site-packages (from angle-emb) (3.9.0)\n",
      "Requirement already satisfied: transformers>=4.32.1 in c:\\users\\yehoshd\\anaconda3\\envs\\gpu_env\\lib\\site-packages (from angle-emb) (4.37.2)\n",
      "Requirement already satisfied: scipy in c:\\users\\yehoshd\\anaconda3\\envs\\gpu_env\\lib\\site-packages (from angle-emb) (1.12.0)\n",
      "Requirement already satisfied: einops in c:\\users\\yehoshd\\anaconda3\\envs\\gpu_env\\lib\\site-packages (from angle-emb) (0.7.0)\n",
      "Requirement already satisfied: wandb in c:\\users\\yehoshd\\anaconda3\\envs\\gpu_env\\lib\\site-packages (from angle-emb) (0.16.3)\n",
      "Requirement already satisfied: filelock in c:\\users\\yehoshd\\anaconda3\\envs\\gpu_env\\lib\\site-packages (from transformers>=4.32.1->angle-emb) (3.13.1)\n",
      "Requirement already satisfied: huggingface-hub<1.0,>=0.19.3 in c:\\users\\yehoshd\\anaconda3\\envs\\gpu_env\\lib\\site-packages (from transformers>=4.32.1->angle-emb) (0.20.3)\n",
      "Requirement already satisfied: numpy>=1.17 in c:\\users\\yehoshd\\anaconda3\\envs\\gpu_env\\lib\\site-packages (from transformers>=4.32.1->angle-emb) (1.26.3)\n",
      "Requirement already satisfied: packaging>=20.0 in c:\\users\\yehoshd\\anaconda3\\envs\\gpu_env\\lib\\site-packages (from transformers>=4.32.1->angle-emb) (23.2)\n",
      "Requirement already satisfied: pyyaml>=5.1 in c:\\users\\yehoshd\\anaconda3\\envs\\gpu_env\\lib\\site-packages (from transformers>=4.32.1->angle-emb) (6.0.1)\n",
      "Requirement already satisfied: regex!=2019.12.17 in c:\\users\\yehoshd\\anaconda3\\envs\\gpu_env\\lib\\site-packages (from transformers>=4.32.1->angle-emb) (2023.12.25)\n",
      "Requirement already satisfied: requests in c:\\users\\yehoshd\\anaconda3\\envs\\gpu_env\\lib\\site-packages (from transformers>=4.32.1->angle-emb) (2.31.0)\n",
      "Requirement already satisfied: tokenizers<0.19,>=0.14 in c:\\users\\yehoshd\\anaconda3\\envs\\gpu_env\\lib\\site-packages (from transformers>=4.32.1->angle-emb) (0.15.2)\n",
      "Requirement already satisfied: safetensors>=0.4.1 in c:\\users\\yehoshd\\anaconda3\\envs\\gpu_env\\lib\\site-packages (from transformers>=4.32.1->angle-emb) (0.4.2)\n",
      "Requirement already satisfied: tqdm>=4.27 in c:\\users\\yehoshd\\anaconda3\\envs\\gpu_env\\lib\\site-packages (from transformers>=4.32.1->angle-emb) (4.66.2)\n",
      "Requirement already satisfied: pyarrow>=12.0.0 in c:\\users\\yehoshd\\anaconda3\\envs\\gpu_env\\lib\\site-packages (from datasets->angle-emb) (15.0.0)\n",
      "Requirement already satisfied: pyarrow-hotfix in c:\\users\\yehoshd\\anaconda3\\envs\\gpu_env\\lib\\site-packages (from datasets->angle-emb) (0.6)\n",
      "Requirement already satisfied: dill<0.3.9,>=0.3.0 in c:\\users\\yehoshd\\anaconda3\\envs\\gpu_env\\lib\\site-packages (from datasets->angle-emb) (0.3.8)\n",
      "Requirement already satisfied: pandas in c:\\users\\yehoshd\\anaconda3\\envs\\gpu_env\\lib\\site-packages (from datasets->angle-emb) (2.2.0)\n",
      "Requirement already satisfied: xxhash in c:\\users\\yehoshd\\anaconda3\\envs\\gpu_env\\lib\\site-packages (from datasets->angle-emb) (3.4.1)\n",
      "Requirement already satisfied: multiprocess in c:\\users\\yehoshd\\anaconda3\\envs\\gpu_env\\lib\\site-packages (from datasets->angle-emb) (0.70.16)\n",
      "Requirement already satisfied: fsspec<=2023.10.0,>=2023.1.0 in c:\\users\\yehoshd\\anaconda3\\envs\\gpu_env\\lib\\site-packages (from fsspec[http]<=2023.10.0,>=2023.1.0->datasets->angle-emb) (2023.10.0)\n",
      "Requirement already satisfied: aiohttp in c:\\users\\yehoshd\\anaconda3\\envs\\gpu_env\\lib\\site-packages (from datasets->angle-emb) (3.9.3)\n",
      "Requirement already satisfied: psutil in c:\\users\\yehoshd\\anaconda3\\envs\\gpu_env\\lib\\site-packages (from peft->angle-emb) (5.9.0)\n",
      "Requirement already satisfied: torch>=1.13.0 in c:\\users\\yehoshd\\anaconda3\\envs\\gpu_env\\lib\\site-packages (from peft->angle-emb) (2.2.0)\n",
      "Requirement already satisfied: accelerate>=0.21.0 in c:\\users\\yehoshd\\anaconda3\\envs\\gpu_env\\lib\\site-packages (from peft->angle-emb) (0.27.2)\n",
      "Requirement already satisfied: wcwidth in c:\\users\\yehoshd\\anaconda3\\envs\\gpu_env\\lib\\site-packages (from prettytable->angle-emb) (0.2.13)\n",
      "Requirement already satisfied: Click!=8.0.0,>=7.1 in c:\\users\\yehoshd\\anaconda3\\envs\\gpu_env\\lib\\site-packages (from wandb->angle-emb) (8.1.7)\n",
      "Requirement already satisfied: GitPython!=3.1.29,>=1.0.0 in c:\\users\\yehoshd\\anaconda3\\envs\\gpu_env\\lib\\site-packages (from wandb->angle-emb) (3.1.41)\n",
      "Requirement already satisfied: sentry-sdk>=1.0.0 in c:\\users\\yehoshd\\anaconda3\\envs\\gpu_env\\lib\\site-packages (from wandb->angle-emb) (1.40.4)\n",
      "Requirement already satisfied: docker-pycreds>=0.4.0 in c:\\users\\yehoshd\\anaconda3\\envs\\gpu_env\\lib\\site-packages (from wandb->angle-emb) (0.4.0)\n",
      "Requirement already satisfied: setproctitle in c:\\users\\yehoshd\\anaconda3\\envs\\gpu_env\\lib\\site-packages (from wandb->angle-emb) (1.3.3)\n",
      "Requirement already satisfied: setuptools in c:\\users\\yehoshd\\anaconda3\\envs\\gpu_env\\lib\\site-packages (from wandb->angle-emb) (68.2.2)\n",
      "Requirement already satisfied: appdirs>=1.4.3 in c:\\users\\yehoshd\\anaconda3\\envs\\gpu_env\\lib\\site-packages (from wandb->angle-emb) (1.4.4)\n",
      "Requirement already satisfied: protobuf!=4.21.0,<5,>=3.19.0 in c:\\users\\yehoshd\\anaconda3\\envs\\gpu_env\\lib\\site-packages (from wandb->angle-emb) (4.25.2)\n",
      "Requirement already satisfied: colorama in c:\\users\\yehoshd\\anaconda3\\envs\\gpu_env\\lib\\site-packages (from Click!=8.0.0,>=7.1->wandb->angle-emb) (0.4.6)\n",
      "Requirement already satisfied: six>=1.4.0 in c:\\users\\yehoshd\\anaconda3\\envs\\gpu_env\\lib\\site-packages (from docker-pycreds>=0.4.0->wandb->angle-emb) (1.16.0)\n",
      "Requirement already satisfied: aiosignal>=1.1.2 in c:\\users\\yehoshd\\anaconda3\\envs\\gpu_env\\lib\\site-packages (from aiohttp->datasets->angle-emb) (1.3.1)\n",
      "Requirement already satisfied: attrs>=17.3.0 in c:\\users\\yehoshd\\anaconda3\\envs\\gpu_env\\lib\\site-packages (from aiohttp->datasets->angle-emb) (23.2.0)\n",
      "Requirement already satisfied: frozenlist>=1.1.1 in c:\\users\\yehoshd\\anaconda3\\envs\\gpu_env\\lib\\site-packages (from aiohttp->datasets->angle-emb) (1.4.1)\n",
      "Requirement already satisfied: multidict<7.0,>=4.5 in c:\\users\\yehoshd\\anaconda3\\envs\\gpu_env\\lib\\site-packages (from aiohttp->datasets->angle-emb) (6.0.5)\n",
      "Requirement already satisfied: yarl<2.0,>=1.0 in c:\\users\\yehoshd\\anaconda3\\envs\\gpu_env\\lib\\site-packages (from aiohttp->datasets->angle-emb) (1.9.4)\n",
      "Requirement already satisfied: gitdb<5,>=4.0.1 in c:\\users\\yehoshd\\anaconda3\\envs\\gpu_env\\lib\\site-packages (from GitPython!=3.1.29,>=1.0.0->wandb->angle-emb) (4.0.11)\n",
      "Requirement already satisfied: typing-extensions>=3.7.4.3 in c:\\users\\yehoshd\\anaconda3\\envs\\gpu_env\\lib\\site-packages (from huggingface-hub<1.0,>=0.19.3->transformers>=4.32.1->angle-emb) (4.9.0)\n",
      "Requirement already satisfied: charset-normalizer<4,>=2 in c:\\users\\yehoshd\\anaconda3\\envs\\gpu_env\\lib\\site-packages (from requests->transformers>=4.32.1->angle-emb) (2.0.4)\n",
      "Requirement already satisfied: idna<4,>=2.5 in c:\\users\\yehoshd\\anaconda3\\envs\\gpu_env\\lib\\site-packages (from requests->transformers>=4.32.1->angle-emb) (3.4)\n",
      "Requirement already satisfied: urllib3<3,>=1.21.1 in c:\\users\\yehoshd\\anaconda3\\envs\\gpu_env\\lib\\site-packages (from requests->transformers>=4.32.1->angle-emb) (2.1.0)\n",
      "Requirement already satisfied: certifi>=2017.4.17 in c:\\users\\yehoshd\\anaconda3\\envs\\gpu_env\\lib\\site-packages (from requests->transformers>=4.32.1->angle-emb) (2024.2.2)\n",
      "Requirement already satisfied: sympy in c:\\users\\yehoshd\\anaconda3\\envs\\gpu_env\\lib\\site-packages (from torch>=1.13.0->peft->angle-emb) (1.12)\n",
      "Requirement already satisfied: networkx in c:\\users\\yehoshd\\anaconda3\\envs\\gpu_env\\lib\\site-packages (from torch>=1.13.0->peft->angle-emb) (3.1)\n",
      "Requirement already satisfied: jinja2 in c:\\users\\yehoshd\\anaconda3\\envs\\gpu_env\\lib\\site-packages (from torch>=1.13.0->peft->angle-emb) (3.1.3)\n",
      "Requirement already satisfied: python-dateutil>=2.8.2 in c:\\users\\yehoshd\\anaconda3\\envs\\gpu_env\\lib\\site-packages (from pandas->datasets->angle-emb) (2.8.2)\n",
      "Requirement already satisfied: pytz>=2020.1 in c:\\users\\yehoshd\\anaconda3\\envs\\gpu_env\\lib\\site-packages (from pandas->datasets->angle-emb) (2024.1)\n",
      "Requirement already satisfied: tzdata>=2022.7 in c:\\users\\yehoshd\\anaconda3\\envs\\gpu_env\\lib\\site-packages (from pandas->datasets->angle-emb) (2024.1)\n",
      "Requirement already satisfied: smmap<6,>=3.0.1 in c:\\users\\yehoshd\\anaconda3\\envs\\gpu_env\\lib\\site-packages (from gitdb<5,>=4.0.1->GitPython!=3.1.29,>=1.0.0->wandb->angle-emb) (5.0.1)\n",
      "Requirement already satisfied: MarkupSafe>=2.0 in c:\\users\\yehoshd\\anaconda3\\envs\\gpu_env\\lib\\site-packages (from jinja2->torch>=1.13.0->peft->angle-emb) (2.1.3)\n",
      "Requirement already satisfied: mpmath>=0.19 in c:\\users\\yehoshd\\anaconda3\\envs\\gpu_env\\lib\\site-packages (from sympy->torch>=1.13.0->peft->angle-emb) (1.3.0)\n",
      "Requirement already satisfied: openpyxl in c:\\users\\yehoshd\\anaconda3\\envs\\gpu_env\\lib\\site-packages (3.1.2)\n",
      "Requirement already satisfied: et-xmlfile in c:\\users\\yehoshd\\anaconda3\\envs\\gpu_env\\lib\\site-packages (from openpyxl) (1.1.0)\n"
     ]
    }
   ],
   "source": [
    "!pip install -U FlagEmbedding\n",
    "!pip install -U angle-emb\n",
    "!pip install openpyxl"
   ]
  },
  {
   "cell_type": "code",
   "execution_count": 2,
   "metadata": {},
   "outputs": [
    {
     "name": "stdout",
     "output_type": "stream",
     "text": [
      "Requirement already satisfied: datasets in c:\\users\\yehoshd\\anaconda3\\envs\\gpu_env\\lib\\site-packages (2.17.0)\n",
      "Requirement already satisfied: filelock in c:\\users\\yehoshd\\anaconda3\\envs\\gpu_env\\lib\\site-packages (from datasets) (3.13.1)\n",
      "Requirement already satisfied: numpy>=1.17 in c:\\users\\yehoshd\\anaconda3\\envs\\gpu_env\\lib\\site-packages (from datasets) (1.26.3)\n",
      "Requirement already satisfied: pyarrow>=12.0.0 in c:\\users\\yehoshd\\anaconda3\\envs\\gpu_env\\lib\\site-packages (from datasets) (15.0.0)\n",
      "Requirement already satisfied: pyarrow-hotfix in c:\\users\\yehoshd\\anaconda3\\envs\\gpu_env\\lib\\site-packages (from datasets) (0.6)\n",
      "Requirement already satisfied: dill<0.3.9,>=0.3.0 in c:\\users\\yehoshd\\anaconda3\\envs\\gpu_env\\lib\\site-packages (from datasets) (0.3.8)\n",
      "Requirement already satisfied: pandas in c:\\users\\yehoshd\\anaconda3\\envs\\gpu_env\\lib\\site-packages (from datasets) (2.2.0)\n",
      "Requirement already satisfied: requests>=2.19.0 in c:\\users\\yehoshd\\anaconda3\\envs\\gpu_env\\lib\\site-packages (from datasets) (2.31.0)\n",
      "Requirement already satisfied: tqdm>=4.62.1 in c:\\users\\yehoshd\\anaconda3\\envs\\gpu_env\\lib\\site-packages (from datasets) (4.66.2)\n",
      "Requirement already satisfied: xxhash in c:\\users\\yehoshd\\anaconda3\\envs\\gpu_env\\lib\\site-packages (from datasets) (3.4.1)\n",
      "Requirement already satisfied: multiprocess in c:\\users\\yehoshd\\anaconda3\\envs\\gpu_env\\lib\\site-packages (from datasets) (0.70.16)\n",
      "Requirement already satisfied: fsspec<=2023.10.0,>=2023.1.0 in c:\\users\\yehoshd\\anaconda3\\envs\\gpu_env\\lib\\site-packages (from fsspec[http]<=2023.10.0,>=2023.1.0->datasets) (2023.10.0)\n",
      "Requirement already satisfied: aiohttp in c:\\users\\yehoshd\\anaconda3\\envs\\gpu_env\\lib\\site-packages (from datasets) (3.9.3)\n",
      "Requirement already satisfied: huggingface-hub>=0.19.4 in c:\\users\\yehoshd\\anaconda3\\envs\\gpu_env\\lib\\site-packages (from datasets) (0.20.3)\n",
      "Requirement already satisfied: packaging in c:\\users\\yehoshd\\anaconda3\\envs\\gpu_env\\lib\\site-packages (from datasets) (23.2)\n",
      "Requirement already satisfied: pyyaml>=5.1 in c:\\users\\yehoshd\\anaconda3\\envs\\gpu_env\\lib\\site-packages (from datasets) (6.0.1)\n",
      "Requirement already satisfied: aiosignal>=1.1.2 in c:\\users\\yehoshd\\anaconda3\\envs\\gpu_env\\lib\\site-packages (from aiohttp->datasets) (1.3.1)\n",
      "Requirement already satisfied: attrs>=17.3.0 in c:\\users\\yehoshd\\anaconda3\\envs\\gpu_env\\lib\\site-packages (from aiohttp->datasets) (23.2.0)\n",
      "Requirement already satisfied: frozenlist>=1.1.1 in c:\\users\\yehoshd\\anaconda3\\envs\\gpu_env\\lib\\site-packages (from aiohttp->datasets) (1.4.1)\n",
      "Requirement already satisfied: multidict<7.0,>=4.5 in c:\\users\\yehoshd\\anaconda3\\envs\\gpu_env\\lib\\site-packages (from aiohttp->datasets) (6.0.5)\n",
      "Requirement already satisfied: yarl<2.0,>=1.0 in c:\\users\\yehoshd\\anaconda3\\envs\\gpu_env\\lib\\site-packages (from aiohttp->datasets) (1.9.4)\n",
      "Requirement already satisfied: typing-extensions>=3.7.4.3 in c:\\users\\yehoshd\\anaconda3\\envs\\gpu_env\\lib\\site-packages (from huggingface-hub>=0.19.4->datasets) (4.9.0)\n",
      "Requirement already satisfied: charset-normalizer<4,>=2 in c:\\users\\yehoshd\\anaconda3\\envs\\gpu_env\\lib\\site-packages (from requests>=2.19.0->datasets) (2.0.4)\n",
      "Requirement already satisfied: idna<4,>=2.5 in c:\\users\\yehoshd\\anaconda3\\envs\\gpu_env\\lib\\site-packages (from requests>=2.19.0->datasets) (3.4)\n",
      "Requirement already satisfied: urllib3<3,>=1.21.1 in c:\\users\\yehoshd\\anaconda3\\envs\\gpu_env\\lib\\site-packages (from requests>=2.19.0->datasets) (2.1.0)\n",
      "Requirement already satisfied: certifi>=2017.4.17 in c:\\users\\yehoshd\\anaconda3\\envs\\gpu_env\\lib\\site-packages (from requests>=2.19.0->datasets) (2024.2.2)\n",
      "Requirement already satisfied: colorama in c:\\users\\yehoshd\\anaconda3\\envs\\gpu_env\\lib\\site-packages (from tqdm>=4.62.1->datasets) (0.4.6)\n",
      "Requirement already satisfied: python-dateutil>=2.8.2 in c:\\users\\yehoshd\\anaconda3\\envs\\gpu_env\\lib\\site-packages (from pandas->datasets) (2.8.2)\n",
      "Requirement already satisfied: pytz>=2020.1 in c:\\users\\yehoshd\\anaconda3\\envs\\gpu_env\\lib\\site-packages (from pandas->datasets) (2024.1)\n",
      "Requirement already satisfied: tzdata>=2022.7 in c:\\users\\yehoshd\\anaconda3\\envs\\gpu_env\\lib\\site-packages (from pandas->datasets) (2024.1)\n",
      "Requirement already satisfied: six>=1.5 in c:\\users\\yehoshd\\anaconda3\\envs\\gpu_env\\lib\\site-packages (from python-dateutil>=2.8.2->pandas->datasets) (1.16.0)\n"
     ]
    }
   ],
   "source": [
    "!pip install datasets"
   ]
  },
  {
   "cell_type": "code",
   "execution_count": 3,
   "metadata": {
    "id": "gVPBuQIBycT5"
   },
   "outputs": [],
   "source": [
    "import warnings\n",
    "import pandas as pd\n",
    "import numpy as np\n",
    "from numpy.linalg import norm\n",
    "from FlagEmbedding import FlagModel\n",
    "# from angle_emb import AnglE\n",
    "from sklearn.metrics import precision_recall_fscore_support, confusion_matrix\n",
    "from sentence_transformers import  util\n",
    "import torch.nn.functional as F\n",
    "from torch import Tensor\n",
    "from transformers import AutoTokenizer, AutoModel"
   ]
  },
  {
   "cell_type": "markdown",
   "metadata": {},
   "source": [
    "## configuration"
   ]
  },
  {
   "cell_type": "code",
   "execution_count": 4,
   "metadata": {},
   "outputs": [],
   "source": [
    "file_path = r\"Z:\\BayWatch\\yehoshua\\dev\\Netivot\\notebook\\twitter_embedding\\all_data_us__updated_to_2024-01-11__16_54.xlsx\"  # path to all data twitter sentiment file\n",
    "model_name = \"e5\"  # e.g bge,angle,e5\n",
    "# bge_model = FlagModel('BAAI/bge-large-zh-v1.5',\n",
    "#                   use_fp16=True, normalize_embeddings=False) # Setting use_fp16 to True speeds up computation with a slight performance degradation\n",
    "# angle_model = AnglE.from_pretrained('WhereIsAI/UAE-Large-V1', pooling_strategy='cls').cuda()\n",
    "model = AutoModel.from_pretrained('intfloat/e5-large-v2')\n",
    "num_samples = 500"
   ]
  },
  {
   "cell_type": "code",
   "execution_count": 5,
   "metadata": {
    "id": "_ykspwAj_kSV"
   },
   "outputs": [],
   "source": [
    "def average_pool(last_hidden_states: Tensor,\n",
    "                 attention_mask: Tensor) -> Tensor:\n",
    "    # source: https://huggingface.co/intfloat/e5-large-v2\n",
    "    last_hidden = last_hidden_states.masked_fill(~attention_mask[..., None].bool(), 0.0)\n",
    "    return last_hidden.sum(dim=1) / attention_mask.sum(dim=1)[..., None]"
   ]
  },
  {
   "cell_type": "code",
   "execution_count": 6,
   "metadata": {
    "id": "0eKPibaG01Fp"
   },
   "outputs": [],
   "source": [
    "def compute_similarity(query_emb, embs):\n",
    "  if not np.isclose(np.linalg.norm(query_emb), 1, atol=1e-12):\n",
    "                print (\"query embedding is not normalized: \", str(np.linalg.norm(query_emb, axis=0)), \"normalizing...\")\n",
    "                query_emb = query_emb / np.linalg.norm(query_emb, axis=0)\n",
    "  if not np.isclose(np.linalg.norm(embs), 1, atol=1e-12):\n",
    "              print (\"sentences embedding is not normalized: \", str(np.linalg.norm(embs, axis=0)), \"normalizing...\")\n",
    "              embs = embs / np.linalg.norm(embs, axis=0)\n",
    "  return query_emb @ embs.T"
   ]
  },
  {
   "cell_type": "code",
   "execution_count": 7,
   "metadata": {
    "id": "PMUtR9_pb9yz"
   },
   "outputs": [],
   "source": [
    "def compute_cosine_similarity(a, b):\n",
    "  if a.ndim == 1:\n",
    "    a = np.expand_dims(a, axis=0)\n",
    "  if b.ndim == 1:\n",
    "    b = np.expand_dims(b, axis=0)\n",
    "  cos_sim = (a @ b.T) / (norm(a, axis=1)*norm(b, axis=1))\n",
    "  return cos_sim.squeeze()"
   ]
  },
  {
   "cell_type": "code",
   "execution_count": 8,
   "metadata": {
    "id": "bMxt6rAo1UE_"
   },
   "outputs": [],
   "source": [
    "def encode_bge(model, sentences):\n",
    "  return model.encode(sentences)\n",
    "\n",
    "\n",
    "def encode_angle(model, sentences):\n",
    "  return model.encode(sentences, to_numpy=True)\n",
    "\n",
    "\n",
    "def encode_e5(model, sentences):\n",
    "  tokenizer = AutoTokenizer.from_pretrained('intfloat/e5-large-v2')\n",
    "  batch_dict = tokenizer(sentences, max_length=512, padding=True, truncation=True, return_tensors='pt')\n",
    "  outputs = model(**batch_dict)\n",
    "  return average_pool(outputs.last_hidden_state, batch_dict['attention_mask'])"
   ]
  },
  {
   "cell_type": "code",
   "execution_count": 9,
   "metadata": {
    "id": "4NnD1g05zZYp"
   },
   "outputs": [],
   "source": [
    "def embed_text(model, model_name, query, sentences):\n",
    "    query_emb = eval(f\"encode_{model_name}(model, query)\")\n",
    "    sentence_emb = eval(f\"encode_{model_name}(model, sentences)\")\n",
    "    return query_emb, sentence_emb"
   ]
  },
  {
   "cell_type": "code",
   "execution_count": 10,
   "metadata": {
    "id": "j8z6MwGz6Xv0"
   },
   "outputs": [],
   "source": [
    "tweets_df = pd.read_excel(file_path)"
   ]
  },
  {
   "cell_type": "code",
   "execution_count": 11,
   "metadata": {
    "id": "MYNNZDxc7M8T"
   },
   "outputs": [],
   "source": [
    "tweets_df_processed = tweets_df.copy(deep=True)\n",
    "# drop NaN\n",
    "tweets_df_processed.dropna(subset=['israel_related_similarity', 'conflict_sentiment', 'conflict_sentiment_v'], inplace=True)\n",
    "# Convert conflict_sentiment to numeric\n",
    "tweets_df_processed['conflict_sentiment'] = pd.to_numeric(tweets_df_processed['conflict_sentiment'], errors='coerce')\n",
    "tweets_df_processed['conflict_sentiment_v'] = tweets_df_processed['conflict_sentiment_v'].astype(int)\n",
    "# Convert conflict_sentiment values which are different than 0 to 1\n",
    "tweets_df_processed['conflict_sentiment'] = tweets_df_processed['conflict_sentiment'].apply(lambda x: 0 if x == 0 else 1)\n",
    "tweets_df_processed['conflict_sentiment_v'] = tweets_df_processed['conflict_sentiment_v'].apply(lambda x: 0 if x == 0 else 1)"
   ]
  },
  {
   "cell_type": "code",
   "execution_count": 12,
   "metadata": {
    "id": "7KObMQYp6pHm"
   },
   "outputs": [],
   "source": [
    "query = \"The ongoing conflict between Israel and Gaza involves military actions, political tensions, and humanitarian concerns\"\n",
    "sentences = tweets_df_processed[\"post_text\"].tolist()"
   ]
  },
  {
   "cell_type": "code",
   "execution_count": 16,
   "metadata": {
    "id": "NjSB8cm9Ah3V"
   },
   "outputs": [],
   "source": [
    "query_emb, sentence_emb = embed_text(model, model_name, query, sentences[:num_samples])"
   ]
  },
  {
   "cell_type": "markdown",
   "metadata": {},
   "source": [
    "## compute_cosine_similarity"
   ]
  },
  {
   "cell_type": "code",
   "execution_count": 17,
   "metadata": {
    "id": "96UoLQAdNjIN"
   },
   "outputs": [],
   "source": [
    "similarity = compute_cosine_similarity(query_emb.detach().numpy(), sentence_emb.detach().numpy())"
   ]
  },
  {
   "cell_type": "code",
   "execution_count": 18,
   "metadata": {
    "id": "Oe7iU184oFzx"
   },
   "outputs": [],
   "source": [
    "# ada_similarity = tweets_df_processed['israel_related_similarity'].values[:num_samples]"
   ]
  },
  {
   "cell_type": "code",
   "execution_count": 19,
   "metadata": {
    "id": "17QjwbO15Fcm"
   },
   "outputs": [],
   "source": [
    "def find_threshold(df, label_column, similarity, error_rate=10, print=False):\n",
    "  threshold_list, precision_list, recall_list = [], [], []\n",
    "  thresholds = similarity\n",
    "  thresholds = list(set([round(float(value), 3) for value in thresholds]))\n",
    "  thresholds.sort(reverse=True)\n",
    "  max_f1 = 0\n",
    "  findings = {}\n",
    "  for thr in thresholds:\n",
    "    labels = df[label_column].astype(int)\n",
    "    predictions = similarity >= thr\n",
    "    precision, recall, f1, _ = precision_recall_fscore_support(labels, predictions, average='binary')\n",
    "    if print: print(f'Threshold: {thr} \\t Precision: {precision:.4f} \\t Recall: {recall:.4f} \\t F1-score: {f1:.4f}')\n",
    "    if f1 > max_f1:\n",
    "      max_f1 = f1\n",
    "      findings['best_f1'] = {\n",
    "        \"thr\": round(thr, 2),\n",
    "        \"precision\": round(precision, 2),\n",
    "        \"recall\": round(recall, 2),\n",
    "        \"f1\": round(f1, 2)\n",
    "      }\n",
    "    if recall >= 1 - error_rate/100 and 'error_rate_condition' not in findings:\n",
    "      findings['error_rate_condition'] = {\n",
    "        \"thr\": round(thr, 2),\n",
    "        \"precision\": round(precision, 2),\n",
    "        \"recall\": round(recall, 2),\n",
    "        \"f1\": round(f1, 2),\n",
    "        \"num_rows\": np.count_nonzero(predictions),\n",
    "        \"confusion_matrix\": confusion_matrix(labels, predictions)\n",
    "      }\n",
    "    threshold_list.append(thr)\n",
    "    precision_list.append(precision)\n",
    "    recall_list.append(recall)\n",
    "  return(threshold_list, recall_list, precision_list, findings)"
   ]
  },
  {
   "cell_type": "code",
   "execution_count": 22,
   "metadata": {
    "id": "uogWTXZG5G91"
   },
   "outputs": [
    {
     "data": {
      "text/plain": [
       "{'best_f1': {'thr': 0.77, 'precision': 0.5, 'recall': 1.0, 'f1': 0.67},\n",
       " 'error_rate_condition': {'thr': 0.77,\n",
       "  'precision': 0.5,\n",
       "  'recall': 1.0,\n",
       "  'f1': 0.67,\n",
       "  'num_rows': 2,\n",
       "  'confusion_matrix': array([[48,  1],\n",
       "         [ 0,  1]], dtype=int64)}}"
      ]
     },
     "execution_count": 22,
     "metadata": {},
     "output_type": "execute_result"
    }
   ],
   "source": [
    "warnings.filterwarnings('ignore')\n",
    "threshold_list, recall_list, precision_list, findings = find_threshold(tweets_df_processed[:num_samples], label_column='conflict_sentiment', similarity=similarity, error_rate=10)\n",
    "findings"
   ]
  },
  {
   "cell_type": "code",
   "execution_count": null,
   "metadata": {},
   "outputs": [],
   "source": []
  }
 ],
 "metadata": {
  "accelerator": "GPU",
  "colab": {
   "gpuType": "T4",
   "provenance": []
  },
  "kernelspec": {
   "display_name": "Python 3 (ipykernel)",
   "language": "python",
   "name": "python3"
  },
  "language_info": {
   "codemirror_mode": {
    "name": "ipython",
    "version": 3
   },
   "file_extension": ".py",
   "mimetype": "text/x-python",
   "name": "python",
   "nbconvert_exporter": "python",
   "pygments_lexer": "ipython3",
   "version": "3.12.1"
  }
 },
 "nbformat": 4,
 "nbformat_minor": 4
}
