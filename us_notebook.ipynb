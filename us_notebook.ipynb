{
 "cells": [
  {
   "cell_type": "markdown",
   "metadata": {},
   "source": [
    "## Setup"
   ]
  },
  {
   "cell_type": "code",
   "execution_count": 2,
   "metadata": {},
   "outputs": [],
   "source": [
    "import pandas as pd\n",
    "import numpy as np\n",
    "import matplotlib.pyplot as plt\n",
    "from datetime import datetime\n",
    "import statsmodels.api as sm\n",
    "from scipy.stats import pearsonr\n",
    "from scipy import stats\n",
    "from pandas import Timestamp\n",
    "from statsmodels.formula.api import ols\n",
    "import plotly.express as px\n",
    "from plotly.subplots import make_subplots\n",
    "\n",
    "\n"
   ]
  },
  {
   "cell_type": "code",
   "execution_count": null,
   "metadata": {},
   "outputs": [],
   "source": [
    "# TODO: IDF Spokesman, Foreign office, PM Office/Hasbara\n",
    "# TODO: Future questions: Prediction of congress members positions (ucla) \n",
    "# TODO: Q: How many democrates, republicans will object israel interest in a specific issue / time ?\n",
    "# TODO: Causal Inference: Effects of external events: The journalists movie. Simpler: Correlation with external events\n",
    "# TODO: News: How is Israel position is presented --> news is a lot longer with several speakers.\n",
    "  # TODO: Ex: If israel narrative is that Hamas owns the hospital - Is it reflected in the news items \n",
    "  # TODO: Ex: The day after, who is taking over Gaza (Israel, US/EU, Arab world, PLO)\n"
   ]
  },
  {
   "cell_type": "markdown",
   "metadata": {},
   "source": [
    "## Import and tidy data"
   ]
  },
  {
   "cell_type": "code",
   "execution_count": 26,
   "metadata": {},
   "outputs": [],
   "source": [
    "\n",
    "# Define the paths to the metadata files\n",
    "metadata_path = \"./twitter_meta/metadata.xlsx\"\n",
    "metadata_gov_path = \"./twitter_meta/metadata_gov.xlsx\"\n",
    "\n",
    "# Read the metadata files using pandas\n",
    "metadata = pd.read_excel(metadata_path)\n",
    "metadata_gov = pd.read_excel(metadata_gov_path)"
   ]
  },
  {
   "cell_type": "code",
   "execution_count": 27,
   "metadata": {},
   "outputs": [],
   "source": [
    "example = pd.read_excel(r'C:\\Users\\otiro\\Desktop\\python stuff\\Netivot\\experiments\\data\\all_data_us__updated_to_2024-01-02__14_07.xlsx')"
   ]
  },
  {
   "cell_type": "code",
   "execution_count": 28,
   "metadata": {},
   "outputs": [
    {
     "name": "stdout",
     "output_type": "stream",
     "text": [
      "2023-12-31\n"
     ]
    }
   ],
   "source": [
    "# Set start of war date\n",
    "october_seventh = datetime.strptime(\"2023-10-07 06:00:00\", \"%Y-%m-%d %H:%M:%S\")\n",
    "\n",
    "# List of retired members - filter out if still in db\n",
    "ret_members = [\"replouiegohmert\", \"repkevinbrady\", \"jimlangevin\",\"reppeterdefazio\", \n",
    "               \"repmondaire\", \"repfredupton\", \"repseanmaloney\",\"repmeijer\",\n",
    "               \"repspeier\", \"repmobrooks\"]\n",
    "\n",
    "# Load and tidy data\n",
    "data_numeric = example.copy() #pd.read_excel(\"../data/all_data_us__updated_to_2023-12-28__10_56.xlsx\")\n",
    "\n",
    "# Select and rename columns (based on tagged column - needs change when goes automatic)\n",
    "data_numeric = data_numeric.drop(columns=['country', 'conflict_sentiment']).rename(columns={'conflict_sentiment_v': 'conflict_sentiment'})\n",
    "\n",
    "# Add columns to df\n",
    "data_numeric = data_numeric.assign(conflict_sentiment=lambda x: pd.to_numeric(x['conflict_sentiment']),\n",
    "                        date=lambda x: pd.to_datetime(x['upload_date']).dt.date,\n",
    "                        day_of_week=lambda x: pd.to_datetime(x['upload_date']).dt.dayofweek,\n",
    "                        # weeks since start of war\n",
    "                        n_week_from_7_10=lambda x: np.round((pd.to_datetime(x['upload_date']) - october_seventh) / np.timedelta64(1, 'W')),\n",
    "                        # \n",
    "                        username=lambda x: x['username'].str.lower())\n",
    "\n",
    "# Translate numeric values to text\n",
    "conflict_numeric_dict = { 0 : \"not_related\", 1: \"pro_palestinian\" , 2: \"complex_attitude\" , 3:  \"pro_israeli\" ,9: \"ambiguous\"}\n",
    "\n",
    "data_numeric['conflict_sentiment_chr'] = data_numeric['conflict_sentiment'].apply(lambda x: conflict_numeric_dict.get(x))\n",
    "\n",
    "# Translate numeric values to rank\n",
    "conflict_rank_dict = {1: -1 , 2: 0 , 3: 1 }\n",
    "\n",
    "data_numeric['conflict_sentiment_rank'] = data_numeric['conflict_sentiment'].apply(lambda x: conflict_rank_dict.get(x))\n",
    "\n",
    "# Creates new column for conflict relation\n",
    "data_numeric['is_conflict_related'] = np.select(\n",
    "    [data_numeric['conflict_sentiment'] != 0, data_numeric['conflict_sentiment'] ==0],\n",
    "    [\"conflict_related\", \"not_related\"])\n",
    "\n",
    "# Various username replacements - if we collect several twitter accounts of the same person, or changed his account\n",
    "username_replacements = {\n",
    "    \"ossoff\": \"senossoff\",\n",
    "    \"claudiatenney\": \"reptenney\",\n",
    "    'aoc': 'repaoc'\n",
    "    } # Add all other replacements here following the same pattern\n",
    "\n",
    "for original, replacement in username_replacements.items():\n",
    "    data_numeric['username'] = np.where(data_numeric['username'] == original, replacement, data_numeric['username'])\n",
    "\n",
    "# Remove data from retired members and lowercasing columns\n",
    "data_numeric = data_numeric[~data_numeric['username'].isin(ret_members)]\n",
    "data_numeric.columns = [col.lower().replace(\" \", \"_\") for col in data_numeric.columns]\n",
    "\n",
    "\n",
    "# Calculate distance from the latest time point\n",
    "last_data_point = data_numeric['date'].max()\n",
    "data_numeric['diff_from_latest_datapoint'] = (data_numeric['date'] - last_data_point)\n",
    "\n",
    "\n",
    "\n",
    "# Print the latest data point\n",
    "print(last_data_point)\n",
    "\n",
    "\n"
   ]
  },
  {
   "cell_type": "markdown",
   "metadata": {},
   "source": [
    "## General  statistics "
   ]
  },
  {
   "cell_type": "markdown",
   "metadata": {},
   "source": [
    "### Daily Tweet frequncy"
   ]
  },
  {
   "cell_type": "code",
   "execution_count": 6,
   "metadata": {},
   "outputs": [
    {
     "data": {
      "application/vnd.plotly.v1+json": {
       "config": {
        "plotlyServerURL": "https://plot.ly"
       },
       "data": [
        {
         "alignmentgroup": "True",
         "hovertemplate": "is_conflict_related=Related to Conflict<br>Date=%{x}<br>Amount of Tweets=%{y}<extra></extra>",
         "legendgroup": "Related to Conflict",
         "marker": {
          "color": "#636efa",
          "pattern": {
           "shape": ""
          }
         },
         "name": "Related to Conflict",
         "offsetgroup": "Related to Conflict",
         "orientation": "v",
         "showlegend": true,
         "textposition": "auto",
         "type": "bar",
         "x": [
          "2023-10-07",
          "2023-10-08",
          "2023-10-09",
          "2023-10-10",
          "2023-10-11",
          "2023-10-12",
          "2023-10-13",
          "2023-10-14",
          "2023-10-15",
          "2023-10-16",
          "2023-10-17",
          "2023-10-18",
          "2023-10-19",
          "2023-10-20",
          "2023-10-21",
          "2023-10-22",
          "2023-10-23",
          "2023-10-24",
          "2023-10-25",
          "2023-10-26",
          "2023-10-27",
          "2023-10-28",
          "2023-10-29",
          "2023-10-30",
          "2023-10-31",
          "2023-11-01",
          "2023-11-02",
          "2023-11-03",
          "2023-11-04",
          "2023-11-05",
          "2023-11-06",
          "2023-11-07",
          "2023-11-08",
          "2023-11-09",
          "2023-11-10",
          "2023-11-11",
          "2023-11-12",
          "2023-11-13",
          "2023-11-14",
          "2023-11-15",
          "2023-11-16",
          "2023-11-17",
          "2023-11-18",
          "2023-11-19",
          "2023-11-20",
          "2023-11-21",
          "2023-11-22",
          "2023-11-23",
          "2023-11-24",
          "2023-11-25",
          "2023-11-26",
          "2023-11-27",
          "2023-11-28",
          "2023-11-29",
          "2023-11-30",
          "2023-12-01",
          "2023-12-02",
          "2023-12-03",
          "2023-12-04",
          "2023-12-05",
          "2023-12-06",
          "2023-12-07",
          "2023-12-08",
          "2023-12-09",
          "2023-12-10",
          "2023-12-11",
          "2023-12-12",
          "2023-12-13",
          "2023-12-14",
          "2023-12-15",
          "2023-12-16",
          "2023-12-17",
          "2023-12-18",
          "2023-12-19",
          "2023-12-20",
          "2023-12-21",
          "2023-12-22",
          "2023-12-23",
          "2023-12-24",
          "2023-12-25",
          "2023-12-26",
          "2023-12-27"
         ],
         "xaxis": "x",
         "y": [
          732,
          286,
          297,
          578,
          399,
          394,
          361,
          156,
          113,
          203,
          273,
          421,
          302,
          342,
          98,
          62,
          173,
          205,
          278,
          248,
          152,
          47,
          54,
          138,
          211,
          249,
          397,
          207,
          64,
          61,
          150,
          246,
          249,
          166,
          74,
          33,
          32,
          91,
          286,
          201,
          170,
          122,
          56,
          35,
          74,
          76,
          163,
          20,
          42,
          27,
          55,
          125,
          109,
          170,
          158,
          112,
          38,
          24,
          105,
          194,
          162,
          100,
          113,
          41,
          35,
          46,
          72,
          120,
          73,
          52,
          26,
          13,
          52,
          34,
          34,
          30,
          34,
          14,
          9,
          4,
          11,
          5
         ],
         "yaxis": "y"
        },
        {
         "alignmentgroup": "True",
         "hovertemplate": "is_conflict_related=Not Related<br>Date=%{x}<br>Amount of Tweets=%{y}<extra></extra>",
         "legendgroup": "Not Related",
         "marker": {
          "color": "#EF553B",
          "pattern": {
           "shape": ""
          }
         },
         "name": "Not Related",
         "offsetgroup": "Not Related",
         "orientation": "v",
         "showlegend": true,
         "textposition": "auto",
         "type": "bar",
         "x": [
          "2023-10-07",
          "2023-10-08",
          "2023-10-09",
          "2023-10-10",
          "2023-10-11",
          "2023-10-12",
          "2023-10-13",
          "2023-10-14",
          "2023-10-15",
          "2023-10-16",
          "2023-10-17",
          "2023-10-18",
          "2023-10-19",
          "2023-10-20",
          "2023-10-21",
          "2023-10-22",
          "2023-10-23",
          "2023-10-24",
          "2023-10-25",
          "2023-10-26",
          "2023-10-27",
          "2023-10-28",
          "2023-10-29",
          "2023-10-30",
          "2023-10-31",
          "2023-11-01",
          "2023-11-02",
          "2023-11-03",
          "2023-11-04",
          "2023-11-05",
          "2023-11-06",
          "2023-11-07",
          "2023-11-08",
          "2023-11-09",
          "2023-11-10",
          "2023-11-11",
          "2023-11-12",
          "2023-11-13",
          "2023-11-14",
          "2023-11-15",
          "2023-11-16",
          "2023-11-17",
          "2023-11-18",
          "2023-11-19",
          "2023-11-20",
          "2023-11-21",
          "2023-11-22",
          "2023-11-23",
          "2023-11-24",
          "2023-11-25",
          "2023-11-26",
          "2023-11-27",
          "2023-11-28",
          "2023-11-29",
          "2023-11-30",
          "2023-12-01",
          "2023-12-02",
          "2023-12-03",
          "2023-12-04",
          "2023-12-05",
          "2023-12-06",
          "2023-12-07",
          "2023-12-08",
          "2023-12-09",
          "2023-12-10",
          "2023-12-11",
          "2023-12-12",
          "2023-12-13",
          "2023-12-14",
          "2023-12-15",
          "2023-12-16",
          "2023-12-17",
          "2023-12-18",
          "2023-12-19",
          "2023-12-20",
          "2023-12-21",
          "2023-12-22",
          "2023-12-23",
          "2023-12-24",
          "2023-12-25",
          "2023-12-26",
          "2023-12-27"
         ],
         "xaxis": "x",
         "y": [
          244,
          337,
          523,
          761,
          945,
          1155,
          1165,
          423,
          349,
          915,
          1168,
          1161,
          1077,
          1207,
          432,
          310,
          937,
          1142,
          1610,
          1488,
          1154,
          531,
          314,
          1015,
          1349,
          1369,
          1420,
          1133,
          450,
          332,
          900,
          1252,
          1315,
          1213,
          916,
          909,
          502,
          1016,
          1365,
          1381,
          1124,
          952,
          431,
          441,
          982,
          873,
          730,
          650,
          341,
          464,
          277,
          743,
          1054,
          1317,
          1345,
          1321,
          503,
          370,
          922,
          1360,
          1541,
          1711,
          1195,
          543,
          440,
          1003,
          1340,
          1757,
          1369,
          1031,
          393,
          223,
          908,
          1030,
          1038,
          879,
          731,
          391,
          316,
          547,
          352,
          35
         ],
         "yaxis": "y"
        }
       ],
       "layout": {
        "barmode": "group",
        "legend": {
         "title": {
          "text": "Relation to Conflict"
         },
         "tracegroupgap": 0
        },
        "template": {
         "data": {
          "bar": [
           {
            "error_x": {
             "color": "#2a3f5f"
            },
            "error_y": {
             "color": "#2a3f5f"
            },
            "marker": {
             "line": {
              "color": "#E5ECF6",
              "width": 0.5
             },
             "pattern": {
              "fillmode": "overlay",
              "size": 10,
              "solidity": 0.2
             }
            },
            "type": "bar"
           }
          ],
          "barpolar": [
           {
            "marker": {
             "line": {
              "color": "#E5ECF6",
              "width": 0.5
             },
             "pattern": {
              "fillmode": "overlay",
              "size": 10,
              "solidity": 0.2
             }
            },
            "type": "barpolar"
           }
          ],
          "carpet": [
           {
            "aaxis": {
             "endlinecolor": "#2a3f5f",
             "gridcolor": "white",
             "linecolor": "white",
             "minorgridcolor": "white",
             "startlinecolor": "#2a3f5f"
            },
            "baxis": {
             "endlinecolor": "#2a3f5f",
             "gridcolor": "white",
             "linecolor": "white",
             "minorgridcolor": "white",
             "startlinecolor": "#2a3f5f"
            },
            "type": "carpet"
           }
          ],
          "choropleth": [
           {
            "colorbar": {
             "outlinewidth": 0,
             "ticks": ""
            },
            "type": "choropleth"
           }
          ],
          "contour": [
           {
            "colorbar": {
             "outlinewidth": 0,
             "ticks": ""
            },
            "colorscale": [
             [
              0,
              "#0d0887"
             ],
             [
              0.1111111111111111,
              "#46039f"
             ],
             [
              0.2222222222222222,
              "#7201a8"
             ],
             [
              0.3333333333333333,
              "#9c179e"
             ],
             [
              0.4444444444444444,
              "#bd3786"
             ],
             [
              0.5555555555555556,
              "#d8576b"
             ],
             [
              0.6666666666666666,
              "#ed7953"
             ],
             [
              0.7777777777777778,
              "#fb9f3a"
             ],
             [
              0.8888888888888888,
              "#fdca26"
             ],
             [
              1,
              "#f0f921"
             ]
            ],
            "type": "contour"
           }
          ],
          "contourcarpet": [
           {
            "colorbar": {
             "outlinewidth": 0,
             "ticks": ""
            },
            "type": "contourcarpet"
           }
          ],
          "heatmap": [
           {
            "colorbar": {
             "outlinewidth": 0,
             "ticks": ""
            },
            "colorscale": [
             [
              0,
              "#0d0887"
             ],
             [
              0.1111111111111111,
              "#46039f"
             ],
             [
              0.2222222222222222,
              "#7201a8"
             ],
             [
              0.3333333333333333,
              "#9c179e"
             ],
             [
              0.4444444444444444,
              "#bd3786"
             ],
             [
              0.5555555555555556,
              "#d8576b"
             ],
             [
              0.6666666666666666,
              "#ed7953"
             ],
             [
              0.7777777777777778,
              "#fb9f3a"
             ],
             [
              0.8888888888888888,
              "#fdca26"
             ],
             [
              1,
              "#f0f921"
             ]
            ],
            "type": "heatmap"
           }
          ],
          "heatmapgl": [
           {
            "colorbar": {
             "outlinewidth": 0,
             "ticks": ""
            },
            "colorscale": [
             [
              0,
              "#0d0887"
             ],
             [
              0.1111111111111111,
              "#46039f"
             ],
             [
              0.2222222222222222,
              "#7201a8"
             ],
             [
              0.3333333333333333,
              "#9c179e"
             ],
             [
              0.4444444444444444,
              "#bd3786"
             ],
             [
              0.5555555555555556,
              "#d8576b"
             ],
             [
              0.6666666666666666,
              "#ed7953"
             ],
             [
              0.7777777777777778,
              "#fb9f3a"
             ],
             [
              0.8888888888888888,
              "#fdca26"
             ],
             [
              1,
              "#f0f921"
             ]
            ],
            "type": "heatmapgl"
           }
          ],
          "histogram": [
           {
            "marker": {
             "pattern": {
              "fillmode": "overlay",
              "size": 10,
              "solidity": 0.2
             }
            },
            "type": "histogram"
           }
          ],
          "histogram2d": [
           {
            "colorbar": {
             "outlinewidth": 0,
             "ticks": ""
            },
            "colorscale": [
             [
              0,
              "#0d0887"
             ],
             [
              0.1111111111111111,
              "#46039f"
             ],
             [
              0.2222222222222222,
              "#7201a8"
             ],
             [
              0.3333333333333333,
              "#9c179e"
             ],
             [
              0.4444444444444444,
              "#bd3786"
             ],
             [
              0.5555555555555556,
              "#d8576b"
             ],
             [
              0.6666666666666666,
              "#ed7953"
             ],
             [
              0.7777777777777778,
              "#fb9f3a"
             ],
             [
              0.8888888888888888,
              "#fdca26"
             ],
             [
              1,
              "#f0f921"
             ]
            ],
            "type": "histogram2d"
           }
          ],
          "histogram2dcontour": [
           {
            "colorbar": {
             "outlinewidth": 0,
             "ticks": ""
            },
            "colorscale": [
             [
              0,
              "#0d0887"
             ],
             [
              0.1111111111111111,
              "#46039f"
             ],
             [
              0.2222222222222222,
              "#7201a8"
             ],
             [
              0.3333333333333333,
              "#9c179e"
             ],
             [
              0.4444444444444444,
              "#bd3786"
             ],
             [
              0.5555555555555556,
              "#d8576b"
             ],
             [
              0.6666666666666666,
              "#ed7953"
             ],
             [
              0.7777777777777778,
              "#fb9f3a"
             ],
             [
              0.8888888888888888,
              "#fdca26"
             ],
             [
              1,
              "#f0f921"
             ]
            ],
            "type": "histogram2dcontour"
           }
          ],
          "mesh3d": [
           {
            "colorbar": {
             "outlinewidth": 0,
             "ticks": ""
            },
            "type": "mesh3d"
           }
          ],
          "parcoords": [
           {
            "line": {
             "colorbar": {
              "outlinewidth": 0,
              "ticks": ""
             }
            },
            "type": "parcoords"
           }
          ],
          "pie": [
           {
            "automargin": true,
            "type": "pie"
           }
          ],
          "scatter": [
           {
            "fillpattern": {
             "fillmode": "overlay",
             "size": 10,
             "solidity": 0.2
            },
            "type": "scatter"
           }
          ],
          "scatter3d": [
           {
            "line": {
             "colorbar": {
              "outlinewidth": 0,
              "ticks": ""
             }
            },
            "marker": {
             "colorbar": {
              "outlinewidth": 0,
              "ticks": ""
             }
            },
            "type": "scatter3d"
           }
          ],
          "scattercarpet": [
           {
            "marker": {
             "colorbar": {
              "outlinewidth": 0,
              "ticks": ""
             }
            },
            "type": "scattercarpet"
           }
          ],
          "scattergeo": [
           {
            "marker": {
             "colorbar": {
              "outlinewidth": 0,
              "ticks": ""
             }
            },
            "type": "scattergeo"
           }
          ],
          "scattergl": [
           {
            "marker": {
             "colorbar": {
              "outlinewidth": 0,
              "ticks": ""
             }
            },
            "type": "scattergl"
           }
          ],
          "scattermapbox": [
           {
            "marker": {
             "colorbar": {
              "outlinewidth": 0,
              "ticks": ""
             }
            },
            "type": "scattermapbox"
           }
          ],
          "scatterpolar": [
           {
            "marker": {
             "colorbar": {
              "outlinewidth": 0,
              "ticks": ""
             }
            },
            "type": "scatterpolar"
           }
          ],
          "scatterpolargl": [
           {
            "marker": {
             "colorbar": {
              "outlinewidth": 0,
              "ticks": ""
             }
            },
            "type": "scatterpolargl"
           }
          ],
          "scatterternary": [
           {
            "marker": {
             "colorbar": {
              "outlinewidth": 0,
              "ticks": ""
             }
            },
            "type": "scatterternary"
           }
          ],
          "surface": [
           {
            "colorbar": {
             "outlinewidth": 0,
             "ticks": ""
            },
            "colorscale": [
             [
              0,
              "#0d0887"
             ],
             [
              0.1111111111111111,
              "#46039f"
             ],
             [
              0.2222222222222222,
              "#7201a8"
             ],
             [
              0.3333333333333333,
              "#9c179e"
             ],
             [
              0.4444444444444444,
              "#bd3786"
             ],
             [
              0.5555555555555556,
              "#d8576b"
             ],
             [
              0.6666666666666666,
              "#ed7953"
             ],
             [
              0.7777777777777778,
              "#fb9f3a"
             ],
             [
              0.8888888888888888,
              "#fdca26"
             ],
             [
              1,
              "#f0f921"
             ]
            ],
            "type": "surface"
           }
          ],
          "table": [
           {
            "cells": {
             "fill": {
              "color": "#EBF0F8"
             },
             "line": {
              "color": "white"
             }
            },
            "header": {
             "fill": {
              "color": "#C8D4E3"
             },
             "line": {
              "color": "white"
             }
            },
            "type": "table"
           }
          ]
         },
         "layout": {
          "annotationdefaults": {
           "arrowcolor": "#2a3f5f",
           "arrowhead": 0,
           "arrowwidth": 1
          },
          "autotypenumbers": "strict",
          "coloraxis": {
           "colorbar": {
            "outlinewidth": 0,
            "ticks": ""
           }
          },
          "colorscale": {
           "diverging": [
            [
             0,
             "#8e0152"
            ],
            [
             0.1,
             "#c51b7d"
            ],
            [
             0.2,
             "#de77ae"
            ],
            [
             0.3,
             "#f1b6da"
            ],
            [
             0.4,
             "#fde0ef"
            ],
            [
             0.5,
             "#f7f7f7"
            ],
            [
             0.6,
             "#e6f5d0"
            ],
            [
             0.7,
             "#b8e186"
            ],
            [
             0.8,
             "#7fbc41"
            ],
            [
             0.9,
             "#4d9221"
            ],
            [
             1,
             "#276419"
            ]
           ],
           "sequential": [
            [
             0,
             "#0d0887"
            ],
            [
             0.1111111111111111,
             "#46039f"
            ],
            [
             0.2222222222222222,
             "#7201a8"
            ],
            [
             0.3333333333333333,
             "#9c179e"
            ],
            [
             0.4444444444444444,
             "#bd3786"
            ],
            [
             0.5555555555555556,
             "#d8576b"
            ],
            [
             0.6666666666666666,
             "#ed7953"
            ],
            [
             0.7777777777777778,
             "#fb9f3a"
            ],
            [
             0.8888888888888888,
             "#fdca26"
            ],
            [
             1,
             "#f0f921"
            ]
           ],
           "sequentialminus": [
            [
             0,
             "#0d0887"
            ],
            [
             0.1111111111111111,
             "#46039f"
            ],
            [
             0.2222222222222222,
             "#7201a8"
            ],
            [
             0.3333333333333333,
             "#9c179e"
            ],
            [
             0.4444444444444444,
             "#bd3786"
            ],
            [
             0.5555555555555556,
             "#d8576b"
            ],
            [
             0.6666666666666666,
             "#ed7953"
            ],
            [
             0.7777777777777778,
             "#fb9f3a"
            ],
            [
             0.8888888888888888,
             "#fdca26"
            ],
            [
             1,
             "#f0f921"
            ]
           ]
          },
          "colorway": [
           "#636efa",
           "#EF553B",
           "#00cc96",
           "#ab63fa",
           "#FFA15A",
           "#19d3f3",
           "#FF6692",
           "#B6E880",
           "#FF97FF",
           "#FECB52"
          ],
          "font": {
           "color": "#2a3f5f"
          },
          "geo": {
           "bgcolor": "white",
           "lakecolor": "white",
           "landcolor": "#E5ECF6",
           "showlakes": true,
           "showland": true,
           "subunitcolor": "white"
          },
          "hoverlabel": {
           "align": "left"
          },
          "hovermode": "closest",
          "mapbox": {
           "style": "light"
          },
          "paper_bgcolor": "white",
          "plot_bgcolor": "#E5ECF6",
          "polar": {
           "angularaxis": {
            "gridcolor": "white",
            "linecolor": "white",
            "ticks": ""
           },
           "bgcolor": "#E5ECF6",
           "radialaxis": {
            "gridcolor": "white",
            "linecolor": "white",
            "ticks": ""
           }
          },
          "scene": {
           "xaxis": {
            "backgroundcolor": "#E5ECF6",
            "gridcolor": "white",
            "gridwidth": 2,
            "linecolor": "white",
            "showbackground": true,
            "ticks": "",
            "zerolinecolor": "white"
           },
           "yaxis": {
            "backgroundcolor": "#E5ECF6",
            "gridcolor": "white",
            "gridwidth": 2,
            "linecolor": "white",
            "showbackground": true,
            "ticks": "",
            "zerolinecolor": "white"
           },
           "zaxis": {
            "backgroundcolor": "#E5ECF6",
            "gridcolor": "white",
            "gridwidth": 2,
            "linecolor": "white",
            "showbackground": true,
            "ticks": "",
            "zerolinecolor": "white"
           }
          },
          "shapedefaults": {
           "line": {
            "color": "#2a3f5f"
           }
          },
          "ternary": {
           "aaxis": {
            "gridcolor": "white",
            "linecolor": "white",
            "ticks": ""
           },
           "baxis": {
            "gridcolor": "white",
            "linecolor": "white",
            "ticks": ""
           },
           "bgcolor": "#E5ECF6",
           "caxis": {
            "gridcolor": "white",
            "linecolor": "white",
            "ticks": ""
           }
          },
          "title": {
           "x": 0.05
          },
          "xaxis": {
           "automargin": true,
           "gridcolor": "white",
           "linecolor": "white",
           "ticks": "",
           "title": {
            "standoff": 15
           },
           "zerolinecolor": "white",
           "zerolinewidth": 2
          },
          "yaxis": {
           "automargin": true,
           "gridcolor": "white",
           "linecolor": "white",
           "ticks": "",
           "title": {
            "standoff": 15
           },
           "zerolinecolor": "white",
           "zerolinewidth": 2
          }
         }
        },
        "title": {
         "font": {
          "size": 20
         },
         "text": "Amount of Tweets by Relation to Conflict Per Day",
         "x": 0.5
        },
        "xaxis": {
         "anchor": "y",
         "domain": [
          0,
          1
         ],
         "title": {
          "text": "Date"
         }
        },
        "yaxis": {
         "anchor": "x",
         "domain": [
          0,
          1
         ],
         "title": {
          "text": "Amount of Tweets"
         }
        }
       }
      }
     },
     "metadata": {},
     "output_type": "display_data"
    }
   ],
   "source": [
    "\n",
    "# Total number of tweets per day\n",
    "tweets_daily = data_numeric.groupby(['date', 'is_conflict_related']).size().reset_index(name='Count')\n",
    "\n",
    "# Tidying data for prettier legend\n",
    "tweets_daily['is_conflict_related'] = tweets_daily['is_conflict_related'].str.replace(\"conflict_related\", \"Related to Conflict\").str.replace(\"not_related\", \"Not Related\")\n",
    "\n",
    "# Create a bar graph with both binary values shown side by side\n",
    "fig = px.bar(tweets_daily, x='date', y='Count', color='is_conflict_related', barmode='group', title='Amount of Tweets by Relation to Conflict Per Day',\n",
    "       labels = {\"date\": \"Date\", \"Count\": \"Amount of Tweets\"})\n",
    "\n",
    "fig.update_layout(title={'font_size': 20 ,\"x\": 0.5}, legend_title = \"Relation to Conflict\" )\n"
   ]
  },
  {
   "cell_type": "code",
   "execution_count": 20,
   "metadata": {},
   "outputs": [
    {
     "data": {
      "application/vnd.plotly.v1+json": {
       "config": {
        "plotlyServerURL": "https://plot.ly"
       },
       "data": [
        {
         "alignmentgroup": "True",
         "hovertemplate": "Date=%{x}<br>Amount of Users=%{y}<extra></extra>",
         "legendgroup": "",
         "marker": {
          "color": "#1f77b4",
          "pattern": {
           "shape": ""
          }
         },
         "name": "",
         "offsetgroup": "",
         "orientation": "v",
         "showlegend": false,
         "textposition": "auto",
         "type": "bar",
         "x": [
          "2023-10-07",
          "2023-10-08",
          "2023-10-09",
          "2023-10-10",
          "2023-10-11",
          "2023-10-12",
          "2023-10-13",
          "2023-10-14",
          "2023-10-15",
          "2023-10-16",
          "2023-10-17",
          "2023-10-18",
          "2023-10-19",
          "2023-10-20",
          "2023-10-21",
          "2023-10-22",
          "2023-10-23",
          "2023-10-24",
          "2023-10-25",
          "2023-10-26",
          "2023-10-27",
          "2023-10-28",
          "2023-10-29",
          "2023-10-30",
          "2023-10-31",
          "2023-11-01",
          "2023-11-02",
          "2023-11-03",
          "2023-11-04",
          "2023-11-05",
          "2023-11-06",
          "2023-11-07",
          "2023-11-08",
          "2023-11-09",
          "2023-11-10",
          "2023-11-11",
          "2023-11-12",
          "2023-11-13",
          "2023-11-14",
          "2023-11-15",
          "2023-11-16",
          "2023-11-17",
          "2023-11-18",
          "2023-11-19",
          "2023-11-20",
          "2023-11-21",
          "2023-11-22",
          "2023-11-23",
          "2023-11-24",
          "2023-11-25",
          "2023-11-26",
          "2023-11-27",
          "2023-11-28",
          "2023-11-29",
          "2023-11-30",
          "2023-12-01",
          "2023-12-02",
          "2023-12-03",
          "2023-12-04",
          "2023-12-05",
          "2023-12-06",
          "2023-12-07",
          "2023-12-08",
          "2023-12-09",
          "2023-12-10",
          "2023-12-11",
          "2023-12-12",
          "2023-12-13",
          "2023-12-14",
          "2023-12-15",
          "2023-12-16",
          "2023-12-17",
          "2023-12-18",
          "2023-12-19",
          "2023-12-20",
          "2023-12-21",
          "2023-12-22",
          "2023-12-23",
          "2023-12-24",
          "2023-12-25",
          "2023-12-26",
          "2023-12-27"
         ],
         "xaxis": "x",
         "y": [
          433,
          127,
          141,
          268,
          217,
          200,
          193,
          89,
          60,
          125,
          150,
          196,
          161,
          166,
          58,
          45,
          102,
          112,
          183,
          156,
          105,
          33,
          42,
          101,
          127,
          145,
          236,
          143,
          48,
          44,
          101,
          159,
          148,
          121,
          59,
          28,
          25,
          70,
          171,
          138,
          115,
          87,
          48,
          29,
          62,
          62,
          125,
          13,
          37,
          24,
          37,
          95,
          78,
          113,
          109,
          77,
          33,
          22,
          78,
          123,
          112,
          78,
          88,
          26,
          27,
          40,
          54,
          84,
          63,
          46,
          24,
          13,
          41,
          28,
          26,
          24,
          28,
          13,
          7,
          3,
          11,
          5
         ],
         "yaxis": "y"
        }
       ],
       "layout": {
        "barmode": "relative",
        "legend": {
         "tracegroupgap": 0
        },
        "template": {
         "data": {
          "bar": [
           {
            "error_x": {
             "color": "#2a3f5f"
            },
            "error_y": {
             "color": "#2a3f5f"
            },
            "marker": {
             "line": {
              "color": "#E5ECF6",
              "width": 0.5
             },
             "pattern": {
              "fillmode": "overlay",
              "size": 10,
              "solidity": 0.2
             }
            },
            "type": "bar"
           }
          ],
          "barpolar": [
           {
            "marker": {
             "line": {
              "color": "#E5ECF6",
              "width": 0.5
             },
             "pattern": {
              "fillmode": "overlay",
              "size": 10,
              "solidity": 0.2
             }
            },
            "type": "barpolar"
           }
          ],
          "carpet": [
           {
            "aaxis": {
             "endlinecolor": "#2a3f5f",
             "gridcolor": "white",
             "linecolor": "white",
             "minorgridcolor": "white",
             "startlinecolor": "#2a3f5f"
            },
            "baxis": {
             "endlinecolor": "#2a3f5f",
             "gridcolor": "white",
             "linecolor": "white",
             "minorgridcolor": "white",
             "startlinecolor": "#2a3f5f"
            },
            "type": "carpet"
           }
          ],
          "choropleth": [
           {
            "colorbar": {
             "outlinewidth": 0,
             "ticks": ""
            },
            "type": "choropleth"
           }
          ],
          "contour": [
           {
            "colorbar": {
             "outlinewidth": 0,
             "ticks": ""
            },
            "colorscale": [
             [
              0,
              "#0d0887"
             ],
             [
              0.1111111111111111,
              "#46039f"
             ],
             [
              0.2222222222222222,
              "#7201a8"
             ],
             [
              0.3333333333333333,
              "#9c179e"
             ],
             [
              0.4444444444444444,
              "#bd3786"
             ],
             [
              0.5555555555555556,
              "#d8576b"
             ],
             [
              0.6666666666666666,
              "#ed7953"
             ],
             [
              0.7777777777777778,
              "#fb9f3a"
             ],
             [
              0.8888888888888888,
              "#fdca26"
             ],
             [
              1,
              "#f0f921"
             ]
            ],
            "type": "contour"
           }
          ],
          "contourcarpet": [
           {
            "colorbar": {
             "outlinewidth": 0,
             "ticks": ""
            },
            "type": "contourcarpet"
           }
          ],
          "heatmap": [
           {
            "colorbar": {
             "outlinewidth": 0,
             "ticks": ""
            },
            "colorscale": [
             [
              0,
              "#0d0887"
             ],
             [
              0.1111111111111111,
              "#46039f"
             ],
             [
              0.2222222222222222,
              "#7201a8"
             ],
             [
              0.3333333333333333,
              "#9c179e"
             ],
             [
              0.4444444444444444,
              "#bd3786"
             ],
             [
              0.5555555555555556,
              "#d8576b"
             ],
             [
              0.6666666666666666,
              "#ed7953"
             ],
             [
              0.7777777777777778,
              "#fb9f3a"
             ],
             [
              0.8888888888888888,
              "#fdca26"
             ],
             [
              1,
              "#f0f921"
             ]
            ],
            "type": "heatmap"
           }
          ],
          "heatmapgl": [
           {
            "colorbar": {
             "outlinewidth": 0,
             "ticks": ""
            },
            "colorscale": [
             [
              0,
              "#0d0887"
             ],
             [
              0.1111111111111111,
              "#46039f"
             ],
             [
              0.2222222222222222,
              "#7201a8"
             ],
             [
              0.3333333333333333,
              "#9c179e"
             ],
             [
              0.4444444444444444,
              "#bd3786"
             ],
             [
              0.5555555555555556,
              "#d8576b"
             ],
             [
              0.6666666666666666,
              "#ed7953"
             ],
             [
              0.7777777777777778,
              "#fb9f3a"
             ],
             [
              0.8888888888888888,
              "#fdca26"
             ],
             [
              1,
              "#f0f921"
             ]
            ],
            "type": "heatmapgl"
           }
          ],
          "histogram": [
           {
            "marker": {
             "pattern": {
              "fillmode": "overlay",
              "size": 10,
              "solidity": 0.2
             }
            },
            "type": "histogram"
           }
          ],
          "histogram2d": [
           {
            "colorbar": {
             "outlinewidth": 0,
             "ticks": ""
            },
            "colorscale": [
             [
              0,
              "#0d0887"
             ],
             [
              0.1111111111111111,
              "#46039f"
             ],
             [
              0.2222222222222222,
              "#7201a8"
             ],
             [
              0.3333333333333333,
              "#9c179e"
             ],
             [
              0.4444444444444444,
              "#bd3786"
             ],
             [
              0.5555555555555556,
              "#d8576b"
             ],
             [
              0.6666666666666666,
              "#ed7953"
             ],
             [
              0.7777777777777778,
              "#fb9f3a"
             ],
             [
              0.8888888888888888,
              "#fdca26"
             ],
             [
              1,
              "#f0f921"
             ]
            ],
            "type": "histogram2d"
           }
          ],
          "histogram2dcontour": [
           {
            "colorbar": {
             "outlinewidth": 0,
             "ticks": ""
            },
            "colorscale": [
             [
              0,
              "#0d0887"
             ],
             [
              0.1111111111111111,
              "#46039f"
             ],
             [
              0.2222222222222222,
              "#7201a8"
             ],
             [
              0.3333333333333333,
              "#9c179e"
             ],
             [
              0.4444444444444444,
              "#bd3786"
             ],
             [
              0.5555555555555556,
              "#d8576b"
             ],
             [
              0.6666666666666666,
              "#ed7953"
             ],
             [
              0.7777777777777778,
              "#fb9f3a"
             ],
             [
              0.8888888888888888,
              "#fdca26"
             ],
             [
              1,
              "#f0f921"
             ]
            ],
            "type": "histogram2dcontour"
           }
          ],
          "mesh3d": [
           {
            "colorbar": {
             "outlinewidth": 0,
             "ticks": ""
            },
            "type": "mesh3d"
           }
          ],
          "parcoords": [
           {
            "line": {
             "colorbar": {
              "outlinewidth": 0,
              "ticks": ""
             }
            },
            "type": "parcoords"
           }
          ],
          "pie": [
           {
            "automargin": true,
            "type": "pie"
           }
          ],
          "scatter": [
           {
            "fillpattern": {
             "fillmode": "overlay",
             "size": 10,
             "solidity": 0.2
            },
            "type": "scatter"
           }
          ],
          "scatter3d": [
           {
            "line": {
             "colorbar": {
              "outlinewidth": 0,
              "ticks": ""
             }
            },
            "marker": {
             "colorbar": {
              "outlinewidth": 0,
              "ticks": ""
             }
            },
            "type": "scatter3d"
           }
          ],
          "scattercarpet": [
           {
            "marker": {
             "colorbar": {
              "outlinewidth": 0,
              "ticks": ""
             }
            },
            "type": "scattercarpet"
           }
          ],
          "scattergeo": [
           {
            "marker": {
             "colorbar": {
              "outlinewidth": 0,
              "ticks": ""
             }
            },
            "type": "scattergeo"
           }
          ],
          "scattergl": [
           {
            "marker": {
             "colorbar": {
              "outlinewidth": 0,
              "ticks": ""
             }
            },
            "type": "scattergl"
           }
          ],
          "scattermapbox": [
           {
            "marker": {
             "colorbar": {
              "outlinewidth": 0,
              "ticks": ""
             }
            },
            "type": "scattermapbox"
           }
          ],
          "scatterpolar": [
           {
            "marker": {
             "colorbar": {
              "outlinewidth": 0,
              "ticks": ""
             }
            },
            "type": "scatterpolar"
           }
          ],
          "scatterpolargl": [
           {
            "marker": {
             "colorbar": {
              "outlinewidth": 0,
              "ticks": ""
             }
            },
            "type": "scatterpolargl"
           }
          ],
          "scatterternary": [
           {
            "marker": {
             "colorbar": {
              "outlinewidth": 0,
              "ticks": ""
             }
            },
            "type": "scatterternary"
           }
          ],
          "surface": [
           {
            "colorbar": {
             "outlinewidth": 0,
             "ticks": ""
            },
            "colorscale": [
             [
              0,
              "#0d0887"
             ],
             [
              0.1111111111111111,
              "#46039f"
             ],
             [
              0.2222222222222222,
              "#7201a8"
             ],
             [
              0.3333333333333333,
              "#9c179e"
             ],
             [
              0.4444444444444444,
              "#bd3786"
             ],
             [
              0.5555555555555556,
              "#d8576b"
             ],
             [
              0.6666666666666666,
              "#ed7953"
             ],
             [
              0.7777777777777778,
              "#fb9f3a"
             ],
             [
              0.8888888888888888,
              "#fdca26"
             ],
             [
              1,
              "#f0f921"
             ]
            ],
            "type": "surface"
           }
          ],
          "table": [
           {
            "cells": {
             "fill": {
              "color": "#EBF0F8"
             },
             "line": {
              "color": "white"
             }
            },
            "header": {
             "fill": {
              "color": "#C8D4E3"
             },
             "line": {
              "color": "white"
             }
            },
            "type": "table"
           }
          ]
         },
         "layout": {
          "annotationdefaults": {
           "arrowcolor": "#2a3f5f",
           "arrowhead": 0,
           "arrowwidth": 1
          },
          "autotypenumbers": "strict",
          "coloraxis": {
           "colorbar": {
            "outlinewidth": 0,
            "ticks": ""
           }
          },
          "colorscale": {
           "diverging": [
            [
             0,
             "#8e0152"
            ],
            [
             0.1,
             "#c51b7d"
            ],
            [
             0.2,
             "#de77ae"
            ],
            [
             0.3,
             "#f1b6da"
            ],
            [
             0.4,
             "#fde0ef"
            ],
            [
             0.5,
             "#f7f7f7"
            ],
            [
             0.6,
             "#e6f5d0"
            ],
            [
             0.7,
             "#b8e186"
            ],
            [
             0.8,
             "#7fbc41"
            ],
            [
             0.9,
             "#4d9221"
            ],
            [
             1,
             "#276419"
            ]
           ],
           "sequential": [
            [
             0,
             "#0d0887"
            ],
            [
             0.1111111111111111,
             "#46039f"
            ],
            [
             0.2222222222222222,
             "#7201a8"
            ],
            [
             0.3333333333333333,
             "#9c179e"
            ],
            [
             0.4444444444444444,
             "#bd3786"
            ],
            [
             0.5555555555555556,
             "#d8576b"
            ],
            [
             0.6666666666666666,
             "#ed7953"
            ],
            [
             0.7777777777777778,
             "#fb9f3a"
            ],
            [
             0.8888888888888888,
             "#fdca26"
            ],
            [
             1,
             "#f0f921"
            ]
           ],
           "sequentialminus": [
            [
             0,
             "#0d0887"
            ],
            [
             0.1111111111111111,
             "#46039f"
            ],
            [
             0.2222222222222222,
             "#7201a8"
            ],
            [
             0.3333333333333333,
             "#9c179e"
            ],
            [
             0.4444444444444444,
             "#bd3786"
            ],
            [
             0.5555555555555556,
             "#d8576b"
            ],
            [
             0.6666666666666666,
             "#ed7953"
            ],
            [
             0.7777777777777778,
             "#fb9f3a"
            ],
            [
             0.8888888888888888,
             "#fdca26"
            ],
            [
             1,
             "#f0f921"
            ]
           ]
          },
          "colorway": [
           "#636efa",
           "#EF553B",
           "#00cc96",
           "#ab63fa",
           "#FFA15A",
           "#19d3f3",
           "#FF6692",
           "#B6E880",
           "#FF97FF",
           "#FECB52"
          ],
          "font": {
           "color": "#2a3f5f"
          },
          "geo": {
           "bgcolor": "white",
           "lakecolor": "white",
           "landcolor": "#E5ECF6",
           "showlakes": true,
           "showland": true,
           "subunitcolor": "white"
          },
          "hoverlabel": {
           "align": "left"
          },
          "hovermode": "closest",
          "mapbox": {
           "style": "light"
          },
          "paper_bgcolor": "white",
          "plot_bgcolor": "#E5ECF6",
          "polar": {
           "angularaxis": {
            "gridcolor": "white",
            "linecolor": "white",
            "ticks": ""
           },
           "bgcolor": "#E5ECF6",
           "radialaxis": {
            "gridcolor": "white",
            "linecolor": "white",
            "ticks": ""
           }
          },
          "scene": {
           "xaxis": {
            "backgroundcolor": "#E5ECF6",
            "gridcolor": "white",
            "gridwidth": 2,
            "linecolor": "white",
            "showbackground": true,
            "ticks": "",
            "zerolinecolor": "white"
           },
           "yaxis": {
            "backgroundcolor": "#E5ECF6",
            "gridcolor": "white",
            "gridwidth": 2,
            "linecolor": "white",
            "showbackground": true,
            "ticks": "",
            "zerolinecolor": "white"
           },
           "zaxis": {
            "backgroundcolor": "#E5ECF6",
            "gridcolor": "white",
            "gridwidth": 2,
            "linecolor": "white",
            "showbackground": true,
            "ticks": "",
            "zerolinecolor": "white"
           }
          },
          "shapedefaults": {
           "line": {
            "color": "#2a3f5f"
           }
          },
          "ternary": {
           "aaxis": {
            "gridcolor": "white",
            "linecolor": "white",
            "ticks": ""
           },
           "baxis": {
            "gridcolor": "white",
            "linecolor": "white",
            "ticks": ""
           },
           "bgcolor": "#E5ECF6",
           "caxis": {
            "gridcolor": "white",
            "linecolor": "white",
            "ticks": ""
           }
          },
          "title": {
           "x": 0.05
          },
          "xaxis": {
           "automargin": true,
           "gridcolor": "white",
           "linecolor": "white",
           "ticks": "",
           "title": {
            "standoff": 15
           },
           "zerolinecolor": "white",
           "zerolinewidth": 2
          },
          "yaxis": {
           "automargin": true,
           "gridcolor": "white",
           "linecolor": "white",
           "ticks": "",
           "title": {
            "standoff": 15
           },
           "zerolinecolor": "white",
           "zerolinewidth": 2
          }
         }
        },
        "title": {
         "font": {
          "size": 20
         },
         "text": "Number of Members tweeting conflict related tweets",
         "x": 0.5
        },
        "xaxis": {
         "anchor": "y",
         "domain": [
          0,
          1
         ],
         "title": {
          "text": "Date"
         }
        },
        "yaxis": {
         "anchor": "x",
         "domain": [
          0,
          1
         ],
         "title": {
          "text": "Amount of Users"
         }
        }
       }
      }
     },
     "metadata": {},
     "output_type": "display_data"
    }
   ],
   "source": [
    "# Number of users tweeted per day\n",
    "conflict_related_data = data_numeric[data_numeric['is_conflict_related'] == 'conflict_related']\n",
    "unique_users_per_day = conflict_related_data.drop_duplicates(subset=['username', 'date'])\n",
    "\n",
    "# Count the number of unique users per day\n",
    "grouped_users_per_day = unique_users_per_day.groupby('date').size().reset_index(name='Count')\n",
    "\n",
    "\n",
    "fig = px.bar(grouped_users_per_day, x= 'date', y = 'Count', title = \"Number of Members tweeting conflict related tweets\",\n",
    "             labels = {\"date\": \"Date\", \"Count\": \"Amount of Users\"} ,color_discrete_sequence = [\"#1f77b4\"])\n",
    "fig.update_layout(title={'font_size': 20 ,\"x\": 0.5} )"
   ]
  },
  {
   "cell_type": "markdown",
   "metadata": {},
   "source": [
    "### Class statistics"
   ]
  },
  {
   "cell_type": "code",
   "execution_count": null,
   "metadata": {},
   "outputs": [],
   "source": [
    "conflict_or_not = data_numeric.groupby('is_conflict_related').size().reset_index(name='Count').sort_values('is_conflict_related', ascending= False)\n",
    "\n",
    "# Tidying data for prettier legend\n",
    "conflict_or_not['is_conflict_related'] = conflict_or_not['is_conflict_related'].str.replace(\"conflict_related\", \"Related to Conflict\").str.replace(\"not_related\", \"Not Related\")\n",
    "conflict_or_not.rename(columns= {\"is_conflict_related\" : \"Conflict Relation\"}, inplace= True)\n",
    "\n",
    "fig = px.bar(conflict_or_not, x = \"Count\",y= \"Conflict Relation\", title = \"Overall Amount of Conflict Related Tweets\",\n",
    "       color = 'Conflict Relation', color_discrete_map= {'Not Related' : 'green', 'Related to Conflict': '#d62728'})\n",
    "\n",
    "fig.update_layout(title={'text': 'Overall Amount of Conflict Related Tweets','font_size': 20 ,\"x\": 0.5})"
   ]
  },
  {
   "cell_type": "code",
   "execution_count": null,
   "metadata": {},
   "outputs": [],
   "source": [
    "# Filter out anything that isn't a conflict related stance  - (pro-israeli, pro-palestinian, mixed)\n",
    "only_stance_data = data_numeric[~data_numeric['conflict_sentiment_rank'].isna()]\n",
    "\n",
    "# Group by stance and sort data\n",
    "stance_grouped = only_stance_data.groupby('conflict_sentiment_chr').size().reset_index(name='Count').sort_values('Count', ascending = False)\n",
    "\n",
    "# Tidying data for prettier legend\n",
    "stance_grouped['conflict_sentiment_chr'] = stance_grouped['conflict_sentiment_chr'].str.replace(\"pro_israeli\", \"Pro Israeli\").str.replace(\"pro_palestinian\", \"Pro Palestinian\").str.replace(\"complex_attitude\", \"Complex Stance\")\n",
    "stance_grouped.rename(columns= {\"conflict_sentiment_chr\" : \"Stance on Conflict\"}, inplace= True)\n",
    "\n",
    "\n",
    "fig = px.bar(stance_grouped, x= 'Count', y = 'Stance on Conflict',title = 'Overall Count per Stance' ,\n",
    "        color = 'Stance on Conflict' ,color_discrete_map = {'Pro Palestinian': '#d62728','Complex Stance': 'goldenrod','Pro Israeli': 'forestgreen' })\n",
    "\n",
    "fig.update_layout(title={'text': 'Overall Amount of Conflict Related Tweets','font_size': 20 ,\"x\": 0.5})"
   ]
  },
  {
   "cell_type": "markdown",
   "metadata": {},
   "source": [
    "### Tweet class overtime"
   ]
  },
  {
   "cell_type": "code",
   "execution_count": null,
   "metadata": {},
   "outputs": [],
   "source": [
    "# Filter out anything that isn't a conflict related stance  - (pro-israeli, pro-palestinian, mixed)\n",
    "only_stance_data = data_numeric[~data_numeric['conflict_sentiment_rank'].isna()]\n",
    "\n",
    "by_stance_daily_amount = only_stance_data.groupby(['conflict_sentiment_chr', 'date']).size().reset_index(name='Count')\n",
    "\n",
    "# Tidying data for prettier legend\n",
    "by_stance_daily_amount['conflict_sentiment_chr'] = by_stance_daily_amount['conflict_sentiment_chr'].str.replace(\"pro_israeli\", \"Pro Israeli\").str.replace(\"pro_palestinian\", \"Pro Palestinian\").str.replace(\"complex_attitude\", \"Complex Stance\")\n",
    "by_stance_daily_amount.rename(columns= {\"conflict_sentiment_chr\" : \"Stance on Conflict\"}, inplace= True)\n",
    "\n",
    "by_stance_daily_amount = by_stance_daily_amount.sort_values('Count', ascending=False)\n",
    "\n",
    "fig = px.bar(by_stance_daily_amount, x='date', y='Count', color='Stance on Conflict', barmode='stack',\n",
    "             category_orders={'date': sorted(by_stance_daily_amount['date'].unique())},\n",
    "             color_discrete_map={'Pro Palestinian': '#d62728','Complex Stance': 'goldenrod','Pro Israeli': 'forestgreen' })\n",
    "fig.update_layout(title={'text': 'Total Tweets per Stance per day','font_size': 20 ,\"x\": 0.5},\n",
    "                   legend_orientation = \"h\", legend_x =  0, legend_y = -0.15, legend_title = \"\")"
   ]
  },
  {
   "cell_type": "markdown",
   "metadata": {},
   "source": [
    "### Tweet class frequency "
   ]
  },
  {
   "cell_type": "code",
   "execution_count": null,
   "metadata": {},
   "outputs": [],
   "source": [
    "conflict_data = data_numeric[data_numeric['is_conflict_related'] == \"conflict_related\"]\n",
    "conflict_data_with_metadata = conflict_data.merge(metadata, how='left', on='username')  # Update 'some_common_column' accordingly\n",
    "\n",
    "# Count and pivot wider\n",
    "count_data = conflict_data_with_metadata.groupby(['conflict_sentiment_chr', 'date', 'party']).size().reset_index(name='count')\n",
    "pivot_data = count_data.pivot_table(index=['date', 'party'], columns='conflict_sentiment_chr', values='count', fill_value=0)\n",
    "\n",
    "# Calculate frequencies\n",
    "pivot_data['total'] = pivot_data.sum(axis=1)\n",
    "for col in pivot_data.columns[:-1]:  # Excluding the total column\n",
    "    pivot_data[f'freq_{col}'] = pivot_data[col] / pivot_data['total']\n",
    "    \n",
    "# Reshape for plotting\n",
    "pivot_data_dropped = pivot_data.drop(columns=['total','ambiguous','pro_israeli','pro_palestinian','complex_attitude'])\n",
    "                                        \n",
    "freq_sentiment = pd.melt(pivot_data_dropped.reset_index(), id_vars=['date', 'party'], \n",
    "                         value_vars=[f'{col}' for col in pivot_data_dropped.columns[1:]],\n",
    "                         var_name='sentiment', value_name='freq')\n",
    "\n",
    "\n",
    "\n",
    "# Making the graph\n",
    "fig = make_subplots(rows=1, cols=2, subplot_titles=('Democratic Party', 'Republican Party'))\n",
    "\n",
    "# Creates colormap and list to iterate over\n",
    "parties = ['Democratic', 'Republican']\n",
    "colors = {'freq_pro_palestinian': '#d62728', 'freq_complex_attitude': 'goldenrod', 'freq_pro_israeli': 'forestgreen'}\n",
    "\n",
    "\n",
    "for idx, party in enumerate(parties, start=1):\n",
    "    party_data = freq_sentiment[freq_sentiment['party'] == party]\n",
    "\n",
    "    # Orders the data in a specific way so that the graph looks nice \n",
    "    cat_dtype = pd.CategoricalDtype(categories=['freq_pro_israeli', 'freq_complex_attitude', 'freq_pro_palestinian'], ordered=True)\n",
    "    party_data['sentiment'] = party_data['sentiment'].astype(cat_dtype)\n",
    "    party_data = party_data.sort_values('sentiment')\n",
    "\n",
    "    # Creates graph\n",
    "    fig_party = px.bar(party_data, x='date', y='freq', color='sentiment', barmode='stack',\n",
    "                category_orders={'date': sorted(freq_sentiment['date'].unique())},\n",
    "                color_discrete_map=colors)\n",
    "    \n",
    "    # 'Loads' subplot into figure\n",
    "    for trace in fig_party['data']:\n",
    "        if party == \"Democratic\":\n",
    "            trace.update(showlegend=False)\n",
    "        fig.add_trace(trace, row=1, col=idx)\n",
    "\n",
    "# Fix layout\n",
    "fig.update_layout(title={'text': 'Stance Comparison by Party','font_size': 20 ,\"x\": 0.5},\n",
    "                   legend_orientation = \"h\", legend_x =  0.25, legend_y = -0.15, \n",
    "                   barmode = 'stack')\n",
    "fig.show()\n"
   ]
  },
  {
   "cell_type": "markdown",
   "metadata": {},
   "source": [
    "## Member-party level analysis\n"
   ]
  },
  {
   "cell_type": "markdown",
   "metadata": {},
   "source": [
    "### Interest overtime"
   ]
  },
  {
   "cell_type": "code",
   "execution_count": null,
   "metadata": {},
   "outputs": [],
   "source": [
    "# TODO: Empty chart + OLS exception\n",
    "\n",
    "temporal_interest = pd.merge(data_numeric, metadata[['username', 'party', 'legislation_body']], on='username', how='left')\n",
    "\n",
    "# Count the data\n",
    "temporal_interest = temporal_interest.groupby(['date', 'party', 'is_conflict_related', 'day_of_week', 'legislation_body']).size().reset_index(name='n')\n",
    "\n",
    "# Pivot wider\n",
    "temporal_interest = temporal_interest.pivot_table(index=['date', 'party', 'day_of_week', 'legislation_body'], columns='is_conflict_related', values='n', fill_value=0).reset_index()\n",
    "temporal_interest.columns.name = None  # Remove the MultiIndex\n",
    "\n",
    "temporal_interest['total_n'] = temporal_interest['conflict_related'] + temporal_interest['not_related']\n",
    "temporal_interest['interest'] = temporal_interest['conflict_related'] / temporal_interest['total_n']\n",
    "\n",
    "temporal_interest['is_weekend'] = np.where(temporal_interest['day_of_week'].isin([6, 7]), 1, 0)\n",
    "temporal_interest['diff_from_0710'] = (pd.to_datetime(temporal_interest['date']) - pd.to_datetime(\"2023-10-07\")).dt.days\n",
    "\n",
    "temporal_interest['datetime'] = pd.to_datetime(temporal_interest['date'])\n",
    "\n",
    "\n",
    "fig = px.scatter(temporal_interest, x='datetime', y='interest', color='party',color_discrete_sequence=[\"#457b9d\", \"#e63946\"],\n",
    "                  trendline='ols', # Adding trendline\n",
    "                  title='Interest in Conflict Over Time',\n",
    "                  labels={'datetime': 'Date', 'interest': 'Interest in % of Tweets'})\n",
    "\n",
    "fig.update_layout(title={'font_size': 20 ,\"x\": 0.5})"
   ]
  },
  {
   "cell_type": "code",
   "execution_count": null,
   "metadata": {},
   "outputs": [],
   "source": [
    "#Prepare the data for regression\n",
    "x = pd.get_dummies(temporal_interest[['date', 'is_weekend', 'legislation_body', 'party']], drop_first=True)\n",
    "#X['day'] = (pd.to_datetime(X['day']) - pd.to_datetime(\"2023-10-07\")).dt.days  # Convert dates to numeric\n",
    "y = temporal_interest['interest']\n",
    "\n",
    "# Add a constant to the model (it's required for statsmodels)\n",
    "x = sm.add_constant(x)\n",
    "\n",
    "\n",
    "model = sm.OLS(y.astype(float), x.astype(float)).fit()\n",
    "model.summary()\n",
    "\n",
    "# # Correlation\n",
    "# correlation, p_value = pearsonr(filtered_data['interest'], filtered_data['diff_from_0710'])\n",
    "# print(f\"Correlation: {correlation}, P-value: {p_value}\")"
   ]
  },
  {
   "cell_type": "code",
   "execution_count": null,
   "metadata": {},
   "outputs": [],
   "source": []
  },
  {
   "cell_type": "markdown",
   "metadata": {},
   "source": [
    "### User position"
   ]
  },
  {
   "cell_type": "code",
   "execution_count": 50,
   "metadata": {},
   "outputs": [
    {
     "data": {
      "application/vnd.plotly.v1+json": {
       "config": {
        "plotlyServerURL": "https://plot.ly"
       },
       "data": [
        {
         "hovertemplate": "mean_stance=%{marker.color}<br>interest=%{y}<extra></extra>",
         "legendgroup": "",
         "marker": {
          "color": [
           0.75,
           0.6341463414634146,
           0.2631578947368421,
           1,
           0.5833333333333334,
           1,
           0.3333333333333333,
           0.2857142857142857,
           1,
           1,
           0.5,
           0.6666666666666666,
           0.5,
           0.6,
           0,
           1,
           0.5,
           0.045454545454545456,
           1,
           0.16666666666666666,
           1,
           0.8,
           0.75,
           1,
           0.8333333333333334,
           0.42857142857142855,
           0.7692307692307693,
           0.8333333333333334,
           0,
           1,
           0.5714285714285714,
           0.7,
           0.75,
           1,
           0.5,
           0.98,
           -0.5,
           0.2,
           0.8888888888888888,
           0.125,
           -0.631578947368421,
           -0.7222222222222222,
           0.7586206896551724,
           0.7142857142857143,
           0.3333333333333333,
           0.6666666666666666,
           -0.42857142857142855,
           0.6666666666666666,
           0.6666666666666666
          ],
          "coloraxis": "coloraxis",
          "symbol": "circle"
         },
         "mode": "markers",
         "name": "",
         "orientation": "v",
         "showlegend": false,
         "type": "scatter",
         "x": [
          0.75,
          0.6341463414634146,
          0.2631578947368421,
          1,
          0.5833333333333334,
          1,
          0.3333333333333333,
          0.2857142857142857,
          1,
          1,
          0.5,
          0.6666666666666666,
          0.5,
          0.6,
          0,
          1,
          0.5,
          0.045454545454545456,
          1,
          0.16666666666666666,
          1,
          0.8,
          0.75,
          1,
          0.8333333333333334,
          0.42857142857142855,
          0.7692307692307693,
          0.8333333333333334,
          0,
          1,
          0.5714285714285714,
          0.7,
          0.75,
          1,
          0.5,
          0.98,
          -0.5,
          0.2,
          0.8888888888888888,
          0.125,
          -0.631578947368421,
          -0.7222222222222222,
          0.7586206896551724,
          0.7142857142857143,
          0.3333333333333333,
          0.6666666666666666,
          -0.42857142857142855,
          0.6666666666666666,
          0.6666666666666666
         ],
         "xaxis": "x",
         "y": [
          0.12941176470588237,
          0.1762820512820513,
          0.1984732824427481,
          0.0425531914893617,
          0.11297071129707113,
          0.017699115044247787,
          0.08571428571428572,
          0.05904059040590406,
          0.0761904761904762,
          0.015037593984962405,
          0.06572769953051644,
          0.0625,
          0.045454545454545456,
          0.12244897959183673,
          0.022988505747126436,
          0.12578616352201258,
          0.023391812865497075,
          0.08504398826979472,
          0.12030075187969924,
          0.02830188679245283,
          0.0196078431372549,
          0.10843373493975904,
          0.11688311688311688,
          0.05521472392638037,
          0.029288702928870293,
          0.049689440993788817,
          0.14285714285714285,
          0.09223300970873786,
          0.039473684210526314,
          0.05128205128205128,
          0.08,
          0.10091743119266056,
          0.051094890510948905,
          0.07142857142857142,
          0.08823529411764706,
          0.21722846441947566,
          0.056338028169014086,
          0.045454545454545456,
          0.09782608695652174,
          0.08035714285714286,
          0.12021857923497267,
          0.40594059405940597,
          0.1814814814814815,
          0.05172413793103448,
          0.010238907849829351,
          0.02857142857142857,
          0.16055045871559634,
          0.020338983050847456,
          0.03067484662576687
         ],
         "yaxis": "y"
        },
        {
         "fill": "tozeroy",
         "fillcolor": "rgba(154, 188, 244,0.15)",
         "showlegend": false,
         "type": "scatter",
         "x": [
          -2,
          2
         ],
         "xaxis": "x",
         "y": [
          2,
          2
         ],
         "yaxis": "y"
        },
        {
         "hovertemplate": "mean_stance=%{marker.color}<br>interest=%{y}<extra></extra>",
         "legendgroup": "",
         "marker": {
          "color": [
           1,
           -0.05263157894736842,
           0.75,
           1,
           0.9111111111111111,
           0.6666666666666666,
           0.5,
           1,
           0.5,
           0.8888888888888888,
           1,
           0.5,
           1,
           0.967741935483871,
           -0.18181818181818182,
           1,
           -0.7272727272727273,
           0,
           0.8,
           0.6,
           -0.55,
           0.8571428571428571,
           -0.3333333333333333,
           -0.07142857142857142,
           0.9090909090909091,
           -0.4,
           1,
           0.46153846153846156,
           -0.25,
           -0.8181818181818182,
           0.3333333333333333,
           0.8888888888888888,
           0.5,
           0.7857142857142857,
           -0.8870967741935484,
           1,
           -0.5714285714285714,
           0.75,
           1,
           -0.125,
           0.3333333333333333,
           0.6666666666666666,
           0.4,
           -0.05555555555555555,
           -0.3333333333333333,
           1,
           1,
           1,
           0.47619047619047616,
           -0.3333333333333333,
           0.625,
           1,
           -0.7777777777777778,
           0.375,
           0.6176470588235294,
           0.45454545454545453,
           -0.8653846153846154,
           1,
           0.6923076923076923,
           -0.42857142857142855,
           1,
           0.4444444444444444,
           1,
           1,
           0.7142857142857143,
           0.45,
           0.8181818181818182,
           -0.3333333333333333,
           0.8,
           0.42857142857142855,
           -0.88,
           0.7,
           0.8571428571428571,
           0,
           0.7,
           0.625,
           0,
           0.5818181818181818,
           0.84,
           0.5416666666666666,
           0.9387755102040817,
           1,
           1,
           0.06666666666666667,
           1,
           0.5,
           0.25,
           0,
           0.7777777777777778,
           1,
           1,
           0.7142857142857143,
           0.7777777777777778,
           0.8571428571428571,
           0.5,
           0.775,
           -1,
           1,
           0.1,
           0.5,
           0.5,
           0.25,
           0.16666666666666666,
           0.3333333333333333,
           -0.5849056603773585,
           1,
           0.8,
           0.7207792207792207,
           1,
           0.1,
           1,
           1,
           1,
           1,
           0.6,
           0.9158878504672897,
           1,
           0.8,
           0.3333333333333333,
           0.5555555555555556,
           0.6666666666666666,
           1,
           0.8571428571428571,
           0.9459459459459459,
           0.4,
           0.5,
           0.6666666666666666,
           -0.5,
           0.8928571428571429,
           0.7142857142857143,
           0,
           1,
           1,
           -0.5,
           0.16666666666666666,
           0,
           -0.6666666666666666,
           0.6666666666666666,
           0.6666666666666666,
           0.2,
           0.6666666666666666,
           1,
           0,
           0.5714285714285714,
           0.5454545454545454,
           0.9393939393939394,
           1,
           0.15384615384615385,
           0.8,
           0.9,
           0.5,
           1,
           0.6363636363636364,
           -0.8620689655172413,
           -0.9375,
           0.3181818181818182,
           0,
           1,
           1,
           0.9,
           0.8947368421052632,
           0.6153846153846154,
           0.3333333333333333,
           0.9230769230769231,
           1,
           0.13636363636363635,
           0.6,
           0.7878787878787878,
           0.4444444444444444,
           1,
           0.7619047619047619,
           1,
           0.7,
           0.38461538461538464,
           0.9230769230769231,
           1,
           0.6666666666666666,
           1,
           -0.7083333333333334,
           0.7857142857142857,
           0.75,
           0.5555555555555556,
           0.875,
           1,
           0,
           1,
           1,
           0,
           1,
           0.5,
           0.8333333333333334,
           0.3333333333333333,
           0.8571428571428571,
           1,
           1,
           0.8,
           1,
           0.3333333333333333,
           1,
           0.7058823529411765,
           1,
           0.6666666666666666,
           0.625
          ],
          "coloraxis": "coloraxis",
          "symbol": "circle"
         },
         "mode": "markers",
         "name": "",
         "orientation": "v",
         "showlegend": false,
         "type": "scatter",
         "x": [
          1,
          -0.05263157894736842,
          0.75,
          1,
          0.9111111111111111,
          0.6666666666666666,
          0.5,
          1,
          0.5,
          0.8888888888888888,
          1,
          0.5,
          1,
          0.967741935483871,
          -0.18181818181818182,
          1,
          -0.7272727272727273,
          0,
          0.8,
          0.6,
          -0.55,
          0.8571428571428571,
          -0.3333333333333333,
          -0.07142857142857142,
          0.9090909090909091,
          -0.4,
          1,
          0.46153846153846156,
          -0.25,
          -0.8181818181818182,
          0.3333333333333333,
          0.8888888888888888,
          0.5,
          0.7857142857142857,
          -0.8870967741935484,
          1,
          -0.5714285714285714,
          0.75,
          1,
          -0.125,
          0.3333333333333333,
          0.6666666666666666,
          0.4,
          -0.05555555555555555,
          -0.3333333333333333,
          1,
          1,
          1,
          0.47619047619047616,
          -0.3333333333333333,
          0.625,
          1,
          -0.7777777777777778,
          0.375,
          0.6176470588235294,
          0.45454545454545453,
          -0.8653846153846154,
          1,
          0.6923076923076923,
          -0.42857142857142855,
          1,
          0.4444444444444444,
          1,
          1,
          0.7142857142857143,
          0.45,
          0.8181818181818182,
          -0.3333333333333333,
          0.8,
          0.42857142857142855,
          -0.88,
          0.7,
          0.8571428571428571,
          0,
          0.7,
          0.625,
          0,
          0.5818181818181818,
          0.84,
          0.5416666666666666,
          0.9387755102040817,
          1,
          1,
          0.06666666666666667,
          1,
          0.5,
          0.25,
          0,
          0.7777777777777778,
          1,
          1,
          0.7142857142857143,
          0.7777777777777778,
          0.8571428571428571,
          0.5,
          0.775,
          -1,
          1,
          0.1,
          0.5,
          0.5,
          0.25,
          0.16666666666666666,
          0.3333333333333333,
          -0.5849056603773585,
          1,
          0.8,
          0.7207792207792207,
          1,
          0.1,
          1,
          1,
          1,
          1,
          0.6,
          0.9158878504672897,
          1,
          0.8,
          0.3333333333333333,
          0.5555555555555556,
          0.6666666666666666,
          1,
          0.8571428571428571,
          0.9459459459459459,
          0.4,
          0.5,
          0.6666666666666666,
          -0.5,
          0.8928571428571429,
          0.7142857142857143,
          0,
          1,
          1,
          -0.5,
          0.16666666666666666,
          0,
          -0.6666666666666666,
          0.6666666666666666,
          0.6666666666666666,
          0.2,
          0.6666666666666666,
          1,
          0,
          0.5714285714285714,
          0.5454545454545454,
          0.9393939393939394,
          1,
          0.15384615384615385,
          0.8,
          0.9,
          0.5,
          1,
          0.6363636363636364,
          -0.8620689655172413,
          -0.9375,
          0.3181818181818182,
          0,
          1,
          1,
          0.9,
          0.8947368421052632,
          0.6153846153846154,
          0.3333333333333333,
          0.9230769230769231,
          1,
          0.13636363636363635,
          0.6,
          0.7878787878787878,
          0.4444444444444444,
          1,
          0.7619047619047619,
          1,
          0.7,
          0.38461538461538464,
          0.9230769230769231,
          1,
          0.6666666666666666,
          1,
          -0.7083333333333334,
          0.7857142857142857,
          0.75,
          0.5555555555555556,
          0.875,
          1,
          0,
          1,
          1,
          0,
          1,
          0.5,
          0.8333333333333334,
          0.3333333333333333,
          0.8571428571428571,
          1,
          1,
          0.8,
          1,
          0.3333333333333333,
          1,
          0.7058823529411765,
          1,
          0.6666666666666666,
          0.625
         ],
         "xaxis": "x3",
         "y": [
          0.033707865168539325,
          0.115,
          0.017241379310344827,
          0.02127659574468085,
          0.40601503759398494,
          0.07792207792207792,
          0.058823529411764705,
          0.045454545454545456,
          0.06367041198501873,
          0.12184873949579832,
          0.08403361344537816,
          0.06896551724137931,
          0.012195121951219513,
          0.1189710610932476,
          0.09166666666666666,
          0.045454545454545456,
          0.15625,
          0.014705882352941176,
          0.08333333333333333,
          0.07142857142857142,
          0.1260053619302949,
          0.07368421052631578,
          0.14545454545454545,
          0.11242603550295859,
          0.07659574468085106,
          0.027522935779816515,
          0.15789473684210525,
          0.10426540284360189,
          0.2727272727272727,
          0.13761467889908258,
          0.02666666666666667,
          0.045662100456621,
          0.0967741935483871,
          0.096045197740113,
          0.5743243243243243,
          0.41025641025641024,
          0.08602150537634409,
          0.06432748538011696,
          0.024691358024691357,
          0.14666666666666667,
          0.11666666666666667,
          0.1504424778761062,
          0.05343511450381679,
          0.1610738255033557,
          0.11196911196911197,
          0.013422818791946308,
          0.015873015873015872,
          0.012658227848101266,
          0.1116751269035533,
          0.05747126436781609,
          0.087248322147651,
          0.07086614173228346,
          0.11711711711711711,
          0.0966183574879227,
          0.23668639053254437,
          0.05913978494623656,
          0.4222222222222222,
          0.047619047619047616,
          0.2604166666666667,
          0.16279069767441862,
          0.04878048780487805,
          0.046632124352331605,
          0.028985507246376812,
          0.1,
          0.05806451612903226,
          0.24468085106382978,
          0.7419354838709677,
          0.07027027027027027,
          0.05421686746987952,
          0.057971014492753624,
          0.17365269461077845,
          0.0782122905027933,
          0.046242774566473986,
          0.10588235294117647,
          0.15476190476190477,
          0.02888086642599278,
          0.047619047619047616,
          0.09983361064891846,
          0.10038610038610038,
          0.06542056074766354,
          0.25,
          0.03418803418803419,
          0.026785714285714284,
          0.13385826771653545,
          0.09734513274336283,
          0.03,
          0.06428571428571428,
          0.07692307692307693,
          0.06766917293233082,
          0.06666666666666667,
          0.11510791366906475,
          0.2553191489361702,
          0.12658227848101267,
          0.1553398058252427,
          0.007380073800738007,
          0.17803030303030304,
          0.03333333333333333,
          0.009950248756218905,
          0.10833333333333334,
          0.045454545454545456,
          0.025380710659898477,
          0.05,
          0.02727272727272727,
          0.19444444444444445,
          0.18873239436619718,
          0.125,
          0.0594059405940594,
          0.4636363636363636,
          0.10909090909090909,
          0.06217616580310881,
          0.05688622754491018,
          0.029411764705882353,
          0.04242424242424243,
          0.023529411764705882,
          0.04697986577181208,
          0.4255952380952381,
          0.011111111111111112,
          0.07692307692307693,
          0.06153846153846154,
          0.05106382978723404,
          0.1095890410958904,
          0.052083333333333336,
          0.1125,
          0.33974358974358976,
          0.10869565217391304,
          0.05504587155963303,
          0.06611570247933884,
          0.13548387096774195,
          0.33,
          0.036734693877551024,
          0.16216216216216217,
          0.045454545454545456,
          0.05263157894736842,
          0.09278350515463918,
          0.056451612903225805,
          0.15384615384615385,
          0.05102040816326531,
          0.04680851063829787,
          0.04827586206896552,
          0.06060606060606061,
          0.12087912087912088,
          0.018518518518518517,
          0.05,
          0.059782608695652176,
          0.06484641638225255,
          0.29333333333333333,
          0.029411764705882353,
          0.07729468599033816,
          0.05188679245283019,
          0.09022556390977443,
          0.14285714285714285,
          0.05970149253731343,
          0.07894736842105263,
          0.13108614232209737,
          0.45569620253164556,
          0.21641791044776118,
          0.05747126436781609,
          0.04,
          0.03571428571428571,
          0.05278592375366569,
          0.08620689655172414,
          0.07172995780590717,
          0.06896551724137931,
          0.09558823529411764,
          0.02054794520547945,
          0.12980769230769232,
          0.058823529411764705,
          0.4823529411764706,
          0.05555555555555555,
          0.04938271604938271,
          0.09505703422053231,
          0.0707070707070707,
          0.16,
          0.3488372093023256,
          0.04797047970479705,
          0.2764976958525346,
          0.17647058823529413,
          0.05555555555555555,
          0.16463414634146342,
          0.08152173913043478,
          0.06179775280898876,
          0.12903225806451613,
          0.0392156862745098,
          0.045714285714285714,
          0.08411214953271028,
          0.035211267605633804,
          0.09722222222222222,
          0.022988505747126436,
          0.018867924528301886,
          0.09090909090909091,
          0.05504587155963303,
          0.06521739130434782,
          0.25263157894736843,
          0.10227272727272728,
          0.013157894736842105,
          0.049586776859504134,
          0.05714285714285714,
          0.24528301886792453,
          0.07407407407407407,
          0.07860262008733625,
          0.1,
          0.03333333333333333,
          0.07006369426751592
         ],
         "yaxis": "y3"
        },
        {
         "fill": "tozeroy",
         "fillcolor": "rgba(154, 188, 244,0.15)",
         "showlegend": false,
         "type": "scatter",
         "x": [
          -2,
          2
         ],
         "xaxis": "x3",
         "y": [
          2,
          2
         ],
         "yaxis": "y3"
        },
        {
         "hovertemplate": "mean_stance=%{marker.color}<br>interest=%{y}<extra></extra>",
         "legendgroup": "",
         "marker": {
          "color": [
           1,
           0.979381443298969,
           1,
           1,
           0.9558823529411765,
           0.9545454545454546,
           0.8,
           0.9661016949152542,
           0.990909090909091,
           1,
           0.8333333333333334,
           1,
           1,
           1,
           1,
           1,
           1,
           1,
           1,
           1,
           1,
           1,
           0.9090909090909091,
           1,
           1,
           1,
           1,
           1,
           1,
           0.9583333333333334,
           1,
           1,
           1,
           1,
           1,
           0.875,
           0.9411764705882353,
           0.9923371647509579,
           1,
           1,
           0.9782608695652174,
           0.9696969696969697,
           1,
           0.9814814814814815,
           1,
           0.9666666666666667,
           1
          ],
          "coloraxis": "coloraxis",
          "symbol": "circle"
         },
         "mode": "markers",
         "name": "",
         "orientation": "v",
         "showlegend": false,
         "type": "scatter",
         "x": [
          1,
          0.979381443298969,
          1,
          1,
          0.9558823529411765,
          0.9545454545454546,
          0.8,
          0.9661016949152542,
          0.990909090909091,
          1,
          0.8333333333333334,
          1,
          1,
          1,
          1,
          1,
          1,
          1,
          1,
          1,
          1,
          1,
          0.9090909090909091,
          1,
          1,
          1,
          1,
          1,
          1,
          0.9583333333333334,
          1,
          1,
          1,
          1,
          1,
          0.875,
          0.9411764705882353,
          0.9923371647509579,
          1,
          1,
          0.9782608695652174,
          0.9696969696969697,
          1,
          0.9814814814814815,
          1,
          0.9666666666666667,
          1
         ],
         "xaxis": "x2",
         "y": [
          0.05333333333333334,
          0.3384615384615385,
          0.23076923076923078,
          0.041666666666666664,
          0.11070998796630566,
          0.36363636363636365,
          0.04201680672268908,
          0.5,
          0.5319148936170213,
          0.12698412698412698,
          0.04878048780487805,
          0.12886597938144329,
          0.08333333333333333,
          0.1452513966480447,
          0.488,
          0.20967741935483872,
          0.3181818181818182,
          0.09615384615384616,
          0.18,
          0.18333333333333332,
          0.27510917030567683,
          0.10954063604240283,
          0.12430939226519337,
          0.1490066225165563,
          0.14035087719298245,
          0.10546875,
          0.1171875,
          0.0949367088607595,
          0.18181818181818182,
          0.15263157894736842,
          0.1962025316455696,
          0.2792207792207792,
          0.21951219512195122,
          0.07142857142857142,
          0.050955414012738856,
          0.14432989690721648,
          0.16393442622950818,
          0.5246800731261426,
          0.075,
          0.2777777777777778,
          0.3116531165311653,
          0.29133858267716534,
          0.1724137931034483,
          0.46099290780141844,
          0.11594202898550725,
          0.3049645390070922,
          0.14285714285714285
         ],
         "yaxis": "y2"
        },
        {
         "fill": "tozeroy",
         "fillcolor": "rgba(255, 134, 128,0.1)",
         "showlegend": false,
         "type": "scatter",
         "x": [
          -2,
          2
         ],
         "xaxis": "x2",
         "y": [
          2,
          2
         ],
         "yaxis": "y2"
        },
        {
         "hovertemplate": "mean_stance=%{marker.color}<br>interest=%{y}<extra></extra>",
         "legendgroup": "",
         "marker": {
          "color": [
           1,
           1,
           1,
           1,
           1,
           1,
           1,
           1,
           1,
           1,
           1,
           1,
           1,
           1,
           0.9333333333333333,
           1,
           1,
           1,
           1,
           1,
           1,
           1,
           1,
           1,
           1,
           1,
           1,
           1,
           1,
           1,
           1,
           1,
           1,
           0.896551724137931,
           1,
           1,
           1,
           1,
           0.9512195121951219,
           1,
           1,
           1,
           1,
           1,
           1,
           0.8571428571428571,
           1,
           0.875,
           1,
           1,
           1,
           1,
           0.8888888888888888,
           0.9565217391304348,
           1,
           0.9736842105263158,
           1,
           1,
           1,
           1,
           1,
           0.84375,
           1,
           1,
           1,
           1,
           1,
           1,
           1,
           1,
           1,
           1,
           1,
           1,
           1,
           1,
           1,
           0.9767441860465116,
           1,
           1,
           1,
           1,
           1,
           0.9863013698630136,
           1,
           1,
           1,
           1,
           1,
           1,
           1,
           1,
           1,
           1,
           1,
           1,
           1,
           1,
           1,
           1,
           1,
           1,
           1,
           1,
           1,
           1,
           1,
           1,
           1,
           1,
           0.967741935483871,
           1,
           1,
           0.9,
           1,
           1,
           0.8571428571428571,
           1,
           1,
           1,
           1,
           1,
           1,
           1,
           1,
           1,
           1,
           1,
           1,
           1,
           1,
           1,
           1,
           1,
           1,
           1,
           1,
           1,
           1,
           1,
           1,
           1,
           1,
           0.9701492537313433,
           1,
           0.8571428571428571,
           1,
           0.9607843137254902,
           1,
           0.9642857142857143,
           1,
           1,
           1,
           1,
           1,
           1,
           1,
           0.9642857142857143,
           1,
           1,
           1,
           0.96,
           1,
           0.9166666666666666,
           1,
           0.9487179487179487,
           1,
           1,
           1,
           1,
           1,
           1,
           1,
           1,
           1,
           1,
           1,
           1,
           1,
           1,
           1,
           1,
           1,
           1,
           1,
           1,
           1,
           0.9555555555555556,
           1,
           1,
           1,
           1,
           1,
           1,
           -0.2,
           1,
           1,
           1,
           0.9615384615384616,
           1,
           1,
           1,
           1,
           1,
           1,
           1,
           1,
           1,
           1,
           1,
           1,
           1,
           1,
           1,
           1,
           1,
           1,
           1,
           1,
           1,
           1
          ],
          "coloraxis": "coloraxis",
          "symbol": "circle"
         },
         "mode": "markers",
         "name": "",
         "orientation": "v",
         "showlegend": false,
         "type": "scatter",
         "x": [
          1,
          1,
          1,
          1,
          1,
          1,
          1,
          1,
          1,
          1,
          1,
          1,
          1,
          1,
          0.9333333333333333,
          1,
          1,
          1,
          1,
          1,
          1,
          1,
          1,
          1,
          1,
          1,
          1,
          1,
          1,
          1,
          1,
          1,
          1,
          0.896551724137931,
          1,
          1,
          1,
          1,
          0.9512195121951219,
          1,
          1,
          1,
          1,
          1,
          1,
          0.8571428571428571,
          1,
          0.875,
          1,
          1,
          1,
          1,
          0.8888888888888888,
          0.9565217391304348,
          1,
          0.9736842105263158,
          1,
          1,
          1,
          1,
          1,
          0.84375,
          1,
          1,
          1,
          1,
          1,
          1,
          1,
          1,
          1,
          1,
          1,
          1,
          1,
          1,
          1,
          0.9767441860465116,
          1,
          1,
          1,
          1,
          1,
          0.9863013698630136,
          1,
          1,
          1,
          1,
          1,
          1,
          1,
          1,
          1,
          1,
          1,
          1,
          1,
          1,
          1,
          1,
          1,
          1,
          1,
          1,
          1,
          1,
          1,
          1,
          1,
          1,
          0.967741935483871,
          1,
          1,
          0.9,
          1,
          1,
          0.8571428571428571,
          1,
          1,
          1,
          1,
          1,
          1,
          1,
          1,
          1,
          1,
          1,
          1,
          1,
          1,
          1,
          1,
          1,
          1,
          1,
          1,
          1,
          1,
          1,
          1,
          1,
          1,
          0.9701492537313433,
          1,
          0.8571428571428571,
          1,
          0.9607843137254902,
          1,
          0.9642857142857143,
          1,
          1,
          1,
          1,
          1,
          1,
          1,
          0.9642857142857143,
          1,
          1,
          1,
          0.96,
          1,
          0.9166666666666666,
          1,
          0.9487179487179487,
          1,
          1,
          1,
          1,
          1,
          1,
          1,
          1,
          1,
          1,
          1,
          1,
          1,
          1,
          1,
          1,
          1,
          1,
          1,
          1,
          1,
          0.9555555555555556,
          1,
          1,
          1,
          1,
          1,
          1,
          -0.2,
          1,
          1,
          1,
          0.9615384615384616,
          1,
          1,
          1,
          1,
          1,
          1,
          1,
          1,
          1,
          1,
          1,
          1,
          1,
          1,
          1,
          1,
          1,
          1,
          1,
          1,
          1,
          1
         ],
         "xaxis": "x4",
         "y": [
          0.2222222222222222,
          0.06382978723404255,
          0.1566265060240964,
          0.13114754098360656,
          0.1048951048951049,
          0.10526315789473684,
          0.05,
          0.06040268456375839,
          0.25925925925925924,
          0.058823529411764705,
          0.20408163265306123,
          0.12941176470588237,
          0.014492753623188406,
          0.047619047619047616,
          0.04603580562659847,
          0.05263157894736842,
          0.12727272727272726,
          0.3188405797101449,
          0.4,
          0.18811881188118812,
          0.18181818181818182,
          0.11518324607329843,
          0.11363636363636363,
          0.04838709677419355,
          0.09615384615384616,
          0.10465116279069768,
          0.1016260162601626,
          0.14634146341463414,
          0.27631578947368424,
          0.10526315789473684,
          0.07142857142857142,
          0.15384615384615385,
          0.2079207920792079,
          0.10919540229885058,
          0.20512820512820512,
          0.23076923076923078,
          0.04938271604938271,
          0.05223880597014925,
          0.15359477124183007,
          0.25396825396825395,
          0.07692307692307693,
          0.056,
          0.05,
          0.1340782122905028,
          0.08333333333333333,
          0.14285714285714285,
          0.15841584158415842,
          0.16326530612244897,
          0.09956709956709957,
          0.08791208791208792,
          0.13043478260869565,
          0.1,
          0.1676300578034682,
          0.13636363636363635,
          0.10989010989010989,
          0.3670886075949367,
          0.10091743119266056,
          0.11904761904761904,
          0.1625615763546798,
          0.30376940133037694,
          0.09375,
          0.11023622047244094,
          0.19230769230769232,
          0.1111111111111111,
          0.023255813953488372,
          0.09722222222222222,
          0.056451612903225805,
          0.1956521739130435,
          0.35185185185185186,
          0.23214285714285715,
          0.11235955056179775,
          0.24347826086956523,
          0.23076923076923078,
          0.06896551724137931,
          0.20802005012531327,
          0.21311475409836064,
          0.10495626822157435,
          0.1661721068249258,
          0.23134328358208955,
          0.07792207792207792,
          0.1,
          0.075,
          0.10852713178294573,
          0.12618724559023067,
          0.07142857142857142,
          0.07142857142857142,
          0.18309859154929578,
          0.05830903790087463,
          0.03488372093023256,
          0.08490566037735849,
          0.08108108108108109,
          0.12781954887218044,
          0.034482758620689655,
          0.19402985074626866,
          0.21022727272727273,
          0.17105263157894737,
          0.05263157894736842,
          0.13725490196078433,
          0.14761904761904762,
          0.16666666666666666,
          0.11009174311926606,
          0.08783783783783784,
          0.041176470588235294,
          0.09401709401709402,
          0.0547945205479452,
          0.25,
          0.18867924528301888,
          0.12264150943396226,
          0.17763157894736842,
          0.1388888888888889,
          0.20398009950248755,
          0.009316770186335404,
          0.18556701030927836,
          0.16666666666666666,
          0.014705882352941176,
          0.1527777777777778,
          0.0875,
          0.18333333333333332,
          0.39473684210526316,
          0.18518518518518517,
          0.09523809523809523,
          0.17333333333333334,
          0.211864406779661,
          0.08673469387755102,
          0.05,
          0.1292517006802721,
          0.18018018018018017,
          0.24203821656050956,
          0.1,
          0.1111111111111111,
          0.13934426229508196,
          0.20618556701030927,
          0.182648401826484,
          0.04938271604938271,
          0.2247191011235955,
          0.06557377049180328,
          0.109375,
          0.136,
          0.04477611940298507,
          0.07049608355091384,
          0.10126582278481013,
          0.09734513274336283,
          0.2170212765957447,
          0.19583333333333333,
          0.0967741935483871,
          0.052884615384615384,
          0.3065015479876161,
          0.3235294117647059,
          0.19047619047619047,
          0.1822429906542056,
          0.125,
          0.075,
          0.11428571428571428,
          0.09090909090909091,
          0.034161490683229816,
          0.265625,
          0.3448275862068966,
          0.32281553398058255,
          0.273972602739726,
          0.21935483870967742,
          0.17142857142857143,
          0.12184873949579832,
          0.10097719869706841,
          0.12037037037037036,
          0.14285714285714285,
          0.18218623481781376,
          0.1623931623931624,
          0.11428571428571428,
          0.10869565217391304,
          0.12307692307692308,
          0.23076923076923078,
          0.14,
          0.3094170403587444,
          0.12781954887218044,
          0.17857142857142858,
          0.14925373134328357,
          0.11764705882352941,
          0.11688311688311688,
          0.18055555555555555,
          0.08854166666666667,
          0.36486486486486486,
          0.12244897959183673,
          0.1509433962264151,
          0.1267605633802817,
          0.08900523560209424,
          0.0898876404494382,
          1,
          0.23737373737373738,
          0.20833333333333334,
          0.0891089108910891,
          0.0625,
          0.13125,
          0.2076923076923077,
          0.1956241956241956,
          0.1115702479338843,
          0.15384615384615385,
          0.15126050420168066,
          0.08571428571428572,
          0.11688311688311688,
          0.08333333333333333,
          0.18421052631578946,
          0.2765957446808511,
          0.24347826086956523,
          0.16666666666666666,
          0.16923076923076924,
          0.06306306306306306,
          0.25766871165644173,
          0.12365591397849462,
          0.06896551724137931,
          0.09009009009009009,
          0.3170731707317073,
          0.2857142857142857,
          0.07017543859649122,
          0.22794117647058823,
          0.07042253521126761,
          0.059602649006622516,
          0.1320754716981132,
          0.12280701754385964,
          0.06896551724137931,
          0.20918367346938777,
          0.13310580204778158
         ],
         "yaxis": "y4"
        },
        {
         "fill": "tozeroy",
         "fillcolor": "rgba(255, 134, 128,0.1)",
         "showlegend": false,
         "type": "scatter",
         "x": [
          -2,
          2
         ],
         "xaxis": "x4",
         "y": [
          2,
          2
         ],
         "yaxis": "y4"
        }
       ],
       "layout": {
        "annotations": [
         {
          "font": {
           "size": 25
          },
          "showarrow": false,
          "text": "דמוקרטים",
          "x": 0.2475,
          "xanchor": "center",
          "xref": "paper",
          "y": 1,
          "yanchor": "bottom",
          "yref": "paper"
         },
         {
          "font": {
           "size": 25
          },
          "showarrow": false,
          "text": "רפובליקנים",
          "x": 0.7525,
          "xanchor": "center",
          "xref": "paper",
          "y": 1,
          "yanchor": "bottom",
          "yref": "paper"
         },
         {
          "font": {
           "size": 25
          },
          "showarrow": false,
          "text": "עמדה",
          "x": 0.5,
          "xanchor": "center",
          "xref": "paper",
          "y": 0,
          "yanchor": "top",
          "yref": "paper",
          "yshift": -30
         },
         {
          "font": {
           "size": 25
          },
          "showarrow": false,
          "text": "עניין",
          "textangle": -90,
          "x": 0,
          "xanchor": "right",
          "xref": "paper",
          "xshift": -40,
          "y": 0.5,
          "yanchor": "middle",
          "yref": "paper"
         },
         {
          "bgcolor": "rgb(250,250,250)",
          "bordercolor": "rgb(0,0,0)",
          "standoff": 100,
          "text": "senjeffmerkley",
          "x": -0.25,
          "xref": "x",
          "y": 0.004338028169014088,
          "yref": "y"
         },
         {
          "bgcolor": "rgb(250,250,250)",
          "bordercolor": "rgb(0,0,0)",
          "standoff": 100,
          "text": "senpeterwelch",
          "x": -0.381578947368421,
          "xref": "x",
          "y": 0.06821857923497268,
          "yref": "y"
         },
         {
          "bgcolor": "rgb(250,250,250)",
          "bordercolor": "rgb(0,0,0)",
          "standoff": 100,
          "text": "sensanders",
          "x": -0.4722222222222222,
          "xref": "x",
          "y": 0.353940594059406,
          "yref": "y"
         },
         {
          "bgcolor": "rgb(250,250,250)",
          "bordercolor": "rgb(0,0,0)",
          "standoff": 100,
          "text": "senwarren",
          "x": -0.17857142857142855,
          "xref": "x",
          "y": 0.10855045871559635,
          "yref": "y"
         },
         {
          "bgcolor": "rgb(250,250,250)",
          "bordercolor": "rgb(0,0,0)",
          "standoff": 100,
          "text": "repalgreen",
          "x": 0,
          "xref": "x3",
          "y": 0.22072727272727272,
          "yref": "y3"
         },
         {
          "bgcolor": "rgb(250,250,250)",
          "bordercolor": "rgb(0,0,0)",
          "standoff": 100,
          "text": "repaoc",
          "x": -0.6370967741935484,
          "xref": "x3",
          "y": 0.5223243243243243,
          "yref": "y3"
         },
         {
          "bgcolor": "rgb(250,250,250)",
          "bordercolor": "rgb(0,0,0)",
          "standoff": 100,
          "text": "repcori",
          "x": -0.6153846153846154,
          "xref": "x3",
          "y": 0.37022222222222223,
          "yref": "y3"
         },
         {
          "bgcolor": "rgb(250,250,250)",
          "bordercolor": "rgb(0,0,0)",
          "standoff": 100,
          "text": "reprashida",
          "x": -0.6875,
          "xref": "x3",
          "y": 0.40369620253164556,
          "yref": "y3"
         },
         {
          "bgcolor": "rgb(250,250,250)",
          "bordercolor": "rgb(0,0,0)",
          "standoff": 100,
          "text": "repthomasmassie",
          "x": 0.04999999999999999,
          "xref": "x4",
          "y": 0.0595702479338843,
          "yref": "y4"
         }
        ],
        "coloraxis": {
         "colorbar": {
          "x": 1.15,
          "xanchor": "right",
          "y": 1,
          "yanchor": "top"
         },
         "colorscale": [
          [
           0,
           "#d62728"
          ],
          [
           0.5,
           "goldenrod"
          ],
          [
           1,
           "forestgreen"
          ]
         ]
        },
        "height": 800,
        "margin": {
         "b": 60,
         "l": 100,
         "r": 10,
         "t": 80
        },
        "plot_bgcolor": "#F5F5F5",
        "template": {
         "data": {
          "bar": [
           {
            "error_x": {
             "color": "#2a3f5f"
            },
            "error_y": {
             "color": "#2a3f5f"
            },
            "marker": {
             "line": {
              "color": "#E5ECF6",
              "width": 0.5
             },
             "pattern": {
              "fillmode": "overlay",
              "size": 10,
              "solidity": 0.2
             }
            },
            "type": "bar"
           }
          ],
          "barpolar": [
           {
            "marker": {
             "line": {
              "color": "#E5ECF6",
              "width": 0.5
             },
             "pattern": {
              "fillmode": "overlay",
              "size": 10,
              "solidity": 0.2
             }
            },
            "type": "barpolar"
           }
          ],
          "carpet": [
           {
            "aaxis": {
             "endlinecolor": "#2a3f5f",
             "gridcolor": "white",
             "linecolor": "white",
             "minorgridcolor": "white",
             "startlinecolor": "#2a3f5f"
            },
            "baxis": {
             "endlinecolor": "#2a3f5f",
             "gridcolor": "white",
             "linecolor": "white",
             "minorgridcolor": "white",
             "startlinecolor": "#2a3f5f"
            },
            "type": "carpet"
           }
          ],
          "choropleth": [
           {
            "colorbar": {
             "outlinewidth": 0,
             "ticks": ""
            },
            "type": "choropleth"
           }
          ],
          "contour": [
           {
            "colorbar": {
             "outlinewidth": 0,
             "ticks": ""
            },
            "colorscale": [
             [
              0,
              "#0d0887"
             ],
             [
              0.1111111111111111,
              "#46039f"
             ],
             [
              0.2222222222222222,
              "#7201a8"
             ],
             [
              0.3333333333333333,
              "#9c179e"
             ],
             [
              0.4444444444444444,
              "#bd3786"
             ],
             [
              0.5555555555555556,
              "#d8576b"
             ],
             [
              0.6666666666666666,
              "#ed7953"
             ],
             [
              0.7777777777777778,
              "#fb9f3a"
             ],
             [
              0.8888888888888888,
              "#fdca26"
             ],
             [
              1,
              "#f0f921"
             ]
            ],
            "type": "contour"
           }
          ],
          "contourcarpet": [
           {
            "colorbar": {
             "outlinewidth": 0,
             "ticks": ""
            },
            "type": "contourcarpet"
           }
          ],
          "heatmap": [
           {
            "colorbar": {
             "outlinewidth": 0,
             "ticks": ""
            },
            "colorscale": [
             [
              0,
              "#0d0887"
             ],
             [
              0.1111111111111111,
              "#46039f"
             ],
             [
              0.2222222222222222,
              "#7201a8"
             ],
             [
              0.3333333333333333,
              "#9c179e"
             ],
             [
              0.4444444444444444,
              "#bd3786"
             ],
             [
              0.5555555555555556,
              "#d8576b"
             ],
             [
              0.6666666666666666,
              "#ed7953"
             ],
             [
              0.7777777777777778,
              "#fb9f3a"
             ],
             [
              0.8888888888888888,
              "#fdca26"
             ],
             [
              1,
              "#f0f921"
             ]
            ],
            "type": "heatmap"
           }
          ],
          "heatmapgl": [
           {
            "colorbar": {
             "outlinewidth": 0,
             "ticks": ""
            },
            "colorscale": [
             [
              0,
              "#0d0887"
             ],
             [
              0.1111111111111111,
              "#46039f"
             ],
             [
              0.2222222222222222,
              "#7201a8"
             ],
             [
              0.3333333333333333,
              "#9c179e"
             ],
             [
              0.4444444444444444,
              "#bd3786"
             ],
             [
              0.5555555555555556,
              "#d8576b"
             ],
             [
              0.6666666666666666,
              "#ed7953"
             ],
             [
              0.7777777777777778,
              "#fb9f3a"
             ],
             [
              0.8888888888888888,
              "#fdca26"
             ],
             [
              1,
              "#f0f921"
             ]
            ],
            "type": "heatmapgl"
           }
          ],
          "histogram": [
           {
            "marker": {
             "pattern": {
              "fillmode": "overlay",
              "size": 10,
              "solidity": 0.2
             }
            },
            "type": "histogram"
           }
          ],
          "histogram2d": [
           {
            "colorbar": {
             "outlinewidth": 0,
             "ticks": ""
            },
            "colorscale": [
             [
              0,
              "#0d0887"
             ],
             [
              0.1111111111111111,
              "#46039f"
             ],
             [
              0.2222222222222222,
              "#7201a8"
             ],
             [
              0.3333333333333333,
              "#9c179e"
             ],
             [
              0.4444444444444444,
              "#bd3786"
             ],
             [
              0.5555555555555556,
              "#d8576b"
             ],
             [
              0.6666666666666666,
              "#ed7953"
             ],
             [
              0.7777777777777778,
              "#fb9f3a"
             ],
             [
              0.8888888888888888,
              "#fdca26"
             ],
             [
              1,
              "#f0f921"
             ]
            ],
            "type": "histogram2d"
           }
          ],
          "histogram2dcontour": [
           {
            "colorbar": {
             "outlinewidth": 0,
             "ticks": ""
            },
            "colorscale": [
             [
              0,
              "#0d0887"
             ],
             [
              0.1111111111111111,
              "#46039f"
             ],
             [
              0.2222222222222222,
              "#7201a8"
             ],
             [
              0.3333333333333333,
              "#9c179e"
             ],
             [
              0.4444444444444444,
              "#bd3786"
             ],
             [
              0.5555555555555556,
              "#d8576b"
             ],
             [
              0.6666666666666666,
              "#ed7953"
             ],
             [
              0.7777777777777778,
              "#fb9f3a"
             ],
             [
              0.8888888888888888,
              "#fdca26"
             ],
             [
              1,
              "#f0f921"
             ]
            ],
            "type": "histogram2dcontour"
           }
          ],
          "mesh3d": [
           {
            "colorbar": {
             "outlinewidth": 0,
             "ticks": ""
            },
            "type": "mesh3d"
           }
          ],
          "parcoords": [
           {
            "line": {
             "colorbar": {
              "outlinewidth": 0,
              "ticks": ""
             }
            },
            "type": "parcoords"
           }
          ],
          "pie": [
           {
            "automargin": true,
            "type": "pie"
           }
          ],
          "scatter": [
           {
            "fillpattern": {
             "fillmode": "overlay",
             "size": 10,
             "solidity": 0.2
            },
            "type": "scatter"
           }
          ],
          "scatter3d": [
           {
            "line": {
             "colorbar": {
              "outlinewidth": 0,
              "ticks": ""
             }
            },
            "marker": {
             "colorbar": {
              "outlinewidth": 0,
              "ticks": ""
             }
            },
            "type": "scatter3d"
           }
          ],
          "scattercarpet": [
           {
            "marker": {
             "colorbar": {
              "outlinewidth": 0,
              "ticks": ""
             }
            },
            "type": "scattercarpet"
           }
          ],
          "scattergeo": [
           {
            "marker": {
             "colorbar": {
              "outlinewidth": 0,
              "ticks": ""
             }
            },
            "type": "scattergeo"
           }
          ],
          "scattergl": [
           {
            "marker": {
             "colorbar": {
              "outlinewidth": 0,
              "ticks": ""
             }
            },
            "type": "scattergl"
           }
          ],
          "scattermapbox": [
           {
            "marker": {
             "colorbar": {
              "outlinewidth": 0,
              "ticks": ""
             }
            },
            "type": "scattermapbox"
           }
          ],
          "scatterpolar": [
           {
            "marker": {
             "colorbar": {
              "outlinewidth": 0,
              "ticks": ""
             }
            },
            "type": "scatterpolar"
           }
          ],
          "scatterpolargl": [
           {
            "marker": {
             "colorbar": {
              "outlinewidth": 0,
              "ticks": ""
             }
            },
            "type": "scatterpolargl"
           }
          ],
          "scatterternary": [
           {
            "marker": {
             "colorbar": {
              "outlinewidth": 0,
              "ticks": ""
             }
            },
            "type": "scatterternary"
           }
          ],
          "surface": [
           {
            "colorbar": {
             "outlinewidth": 0,
             "ticks": ""
            },
            "colorscale": [
             [
              0,
              "#0d0887"
             ],
             [
              0.1111111111111111,
              "#46039f"
             ],
             [
              0.2222222222222222,
              "#7201a8"
             ],
             [
              0.3333333333333333,
              "#9c179e"
             ],
             [
              0.4444444444444444,
              "#bd3786"
             ],
             [
              0.5555555555555556,
              "#d8576b"
             ],
             [
              0.6666666666666666,
              "#ed7953"
             ],
             [
              0.7777777777777778,
              "#fb9f3a"
             ],
             [
              0.8888888888888888,
              "#fdca26"
             ],
             [
              1,
              "#f0f921"
             ]
            ],
            "type": "surface"
           }
          ],
          "table": [
           {
            "cells": {
             "fill": {
              "color": "#EBF0F8"
             },
             "line": {
              "color": "white"
             }
            },
            "header": {
             "fill": {
              "color": "#C8D4E3"
             },
             "line": {
              "color": "white"
             }
            },
            "type": "table"
           }
          ]
         },
         "layout": {
          "annotationdefaults": {
           "arrowcolor": "#2a3f5f",
           "arrowhead": 0,
           "arrowwidth": 1
          },
          "autotypenumbers": "strict",
          "coloraxis": {
           "colorbar": {
            "outlinewidth": 0,
            "ticks": ""
           }
          },
          "colorscale": {
           "diverging": [
            [
             0,
             "#8e0152"
            ],
            [
             0.1,
             "#c51b7d"
            ],
            [
             0.2,
             "#de77ae"
            ],
            [
             0.3,
             "#f1b6da"
            ],
            [
             0.4,
             "#fde0ef"
            ],
            [
             0.5,
             "#f7f7f7"
            ],
            [
             0.6,
             "#e6f5d0"
            ],
            [
             0.7,
             "#b8e186"
            ],
            [
             0.8,
             "#7fbc41"
            ],
            [
             0.9,
             "#4d9221"
            ],
            [
             1,
             "#276419"
            ]
           ],
           "sequential": [
            [
             0,
             "#0d0887"
            ],
            [
             0.1111111111111111,
             "#46039f"
            ],
            [
             0.2222222222222222,
             "#7201a8"
            ],
            [
             0.3333333333333333,
             "#9c179e"
            ],
            [
             0.4444444444444444,
             "#bd3786"
            ],
            [
             0.5555555555555556,
             "#d8576b"
            ],
            [
             0.6666666666666666,
             "#ed7953"
            ],
            [
             0.7777777777777778,
             "#fb9f3a"
            ],
            [
             0.8888888888888888,
             "#fdca26"
            ],
            [
             1,
             "#f0f921"
            ]
           ],
           "sequentialminus": [
            [
             0,
             "#0d0887"
            ],
            [
             0.1111111111111111,
             "#46039f"
            ],
            [
             0.2222222222222222,
             "#7201a8"
            ],
            [
             0.3333333333333333,
             "#9c179e"
            ],
            [
             0.4444444444444444,
             "#bd3786"
            ],
            [
             0.5555555555555556,
             "#d8576b"
            ],
            [
             0.6666666666666666,
             "#ed7953"
            ],
            [
             0.7777777777777778,
             "#fb9f3a"
            ],
            [
             0.8888888888888888,
             "#fdca26"
            ],
            [
             1,
             "#f0f921"
            ]
           ]
          },
          "colorway": [
           "#636efa",
           "#EF553B",
           "#00cc96",
           "#ab63fa",
           "#FFA15A",
           "#19d3f3",
           "#FF6692",
           "#B6E880",
           "#FF97FF",
           "#FECB52"
          ],
          "font": {
           "color": "#2a3f5f"
          },
          "geo": {
           "bgcolor": "white",
           "lakecolor": "white",
           "landcolor": "#E5ECF6",
           "showlakes": true,
           "showland": true,
           "subunitcolor": "white"
          },
          "hoverlabel": {
           "align": "left"
          },
          "hovermode": "closest",
          "mapbox": {
           "style": "light"
          },
          "paper_bgcolor": "white",
          "plot_bgcolor": "#E5ECF6",
          "polar": {
           "angularaxis": {
            "gridcolor": "white",
            "linecolor": "white",
            "ticks": ""
           },
           "bgcolor": "#E5ECF6",
           "radialaxis": {
            "gridcolor": "white",
            "linecolor": "white",
            "ticks": ""
           }
          },
          "scene": {
           "xaxis": {
            "backgroundcolor": "#E5ECF6",
            "gridcolor": "white",
            "gridwidth": 2,
            "linecolor": "white",
            "showbackground": true,
            "ticks": "",
            "zerolinecolor": "white"
           },
           "yaxis": {
            "backgroundcolor": "#E5ECF6",
            "gridcolor": "white",
            "gridwidth": 2,
            "linecolor": "white",
            "showbackground": true,
            "ticks": "",
            "zerolinecolor": "white"
           },
           "zaxis": {
            "backgroundcolor": "#E5ECF6",
            "gridcolor": "white",
            "gridwidth": 2,
            "linecolor": "white",
            "showbackground": true,
            "ticks": "",
            "zerolinecolor": "white"
           }
          },
          "shapedefaults": {
           "line": {
            "color": "#2a3f5f"
           }
          },
          "ternary": {
           "aaxis": {
            "gridcolor": "white",
            "linecolor": "white",
            "ticks": ""
           },
           "baxis": {
            "gridcolor": "white",
            "linecolor": "white",
            "ticks": ""
           },
           "bgcolor": "#E5ECF6",
           "caxis": {
            "gridcolor": "white",
            "linecolor": "white",
            "ticks": ""
           }
          },
          "title": {
           "x": 0.05
          },
          "xaxis": {
           "automargin": true,
           "gridcolor": "white",
           "linecolor": "white",
           "ticks": "",
           "title": {
            "standoff": 15
           },
           "zerolinecolor": "white",
           "zerolinewidth": 2
          },
          "yaxis": {
           "automargin": true,
           "gridcolor": "white",
           "linecolor": "white",
           "ticks": "",
           "title": {
            "standoff": 15
           },
           "zerolinecolor": "white",
           "zerolinewidth": 2
          }
         }
        },
        "width": 1100,
        "xaxis": {
         "anchor": "y",
         "domain": [
          0,
          0.495
         ],
         "range": [
          -1.1,
          1.1
         ],
         "showticklabels": false,
         "tickvals": [
          -1,
          -0.5,
          0,
          0.5,
          1
         ],
         "zerolinecolor": "rgb(100,100,100)"
        },
        "xaxis2": {
         "anchor": "y2",
         "domain": [
          0.505,
          1
         ],
         "range": [
          -1.1,
          1.1
         ],
         "showticklabels": false,
         "tickvals": [
          -1,
          -0.5,
          0,
          0.5,
          1
         ],
         "zerolinecolor": "rgb(100,100,100)"
        },
        "xaxis3": {
         "anchor": "y3",
         "domain": [
          0,
          0.495
         ],
         "range": [
          -1.1,
          1.1
         ],
         "zerolinecolor": "rgb(100,100,100)"
        },
        "xaxis4": {
         "anchor": "y4",
         "domain": [
          0.505,
          1
         ],
         "range": [
          -1.1,
          1.1
         ],
         "tickvals": [
          -1,
          -0.5,
          0,
          0.5,
          1
         ],
         "zeroline": true,
         "zerolinecolor": "rgb(100,100,100)"
        },
        "yaxis": {
         "anchor": "x",
         "domain": [
          0.51,
          1
         ],
         "range": [
          0,
          1.05
         ],
         "showgrid": true,
         "zeroline": true
        },
        "yaxis2": {
         "anchor": "x2",
         "domain": [
          0.51,
          1
         ],
         "range": [
          0,
          1.05
         ],
         "side": "right",
         "ticktext": [
          "0",
          "",
          "",
          "",
          "",
          "1"
         ],
         "tickvals": [
          0,
          0.2,
          0.4,
          0.6,
          0.8,
          1.1
         ],
         "title": {
          "font": {
           "size": 25
          },
          "text": "הסנאט"
         }
        },
        "yaxis3": {
         "anchor": "x3",
         "domain": [
          0,
          0.49
         ],
         "range": [
          0,
          1.05
         ]
        },
        "yaxis4": {
         "anchor": "x4",
         "domain": [
          0,
          0.49
         ],
         "range": [
          0,
          1.05
         ],
         "side": "right",
         "ticktext": [
          "0",
          "",
          "",
          "",
          "",
          "1"
         ],
         "tickvals": [
          0,
          0.2,
          0.4,
          0.6,
          0.8,
          1.1
         ],
         "title": {
          "font": {
           "size": 25
          },
          "text": "בית הנבחרים"
         }
        }
       }
      }
     },
     "metadata": {},
     "output_type": "display_data"
    }
   ],
   "source": [
    "# Get general stats on each congressperson - tweets,likes, retweets, comments\n",
    "import plotly.graph_objects as go\n",
    "annotation = True\n",
    "\n",
    "user_summary_stat = data_numeric.groupby('username').agg(\n",
    "    mean_like_amount=('like_amount', 'mean'),\n",
    "    mean_retweet=('retweet_amount', 'mean'),\n",
    "    mean_comments=('comments_amount', 'mean'),\n",
    "    n_tweet=('post_id', 'count')  # Assuming there's a tweet_id column\n",
    ")\n",
    "\n",
    "# User interest in Israel (% of tweets on conflict)\n",
    "user_interest = data_numeric.groupby(['username', 'is_conflict_related']).size().reset_index(name='n')\n",
    "user_interest = user_interest.pivot_table(index='username', columns='is_conflict_related', values='n', fill_value=0).reset_index()\n",
    "user_interest['interest'] = user_interest['conflict_related'] / (user_interest['conflict_related'] + user_interest['not_related'])\n",
    "\n",
    "# User stance to Israel\n",
    "data_numeric['conflict_sentiment_rank'] = pd.to_numeric(data_numeric['conflict_sentiment_rank'], errors='coerce')\n",
    "# Filter out anything that isn't a conflict related stance  - (pro-israeli, pro-palestinian, mixed)\n",
    "user_stance_data = data_numeric[~data_numeric['conflict_sentiment_rank'].isna()]\n",
    "\n",
    "user_stance_data = user_stance_data.groupby('username').agg(\n",
    "    # Average stance\n",
    "    mean_stance=('conflict_sentiment_rank', 'mean'),\n",
    "    # Most common stance\n",
    "    mode_stance=('conflict_sentiment_rank', lambda x: stats.mode(x)[0])\n",
    ")\n",
    "\n",
    "# Merge all data\n",
    "user_stats_merged = user_summary_stat.merge(user_stance_data, on='username', how='left')\n",
    "user_stats_merged = user_stats_merged.merge(user_interest, on='username', how='left')\n",
    "user_stats_merged = user_stats_merged.merge(metadata, on='username', how='left')  # Adjust 'metadata' as needed\n",
    "\n",
    "\n",
    "# Convert 'legislation_body' and 'party' to string if not already, to use in facet_grid\n",
    "user_stats_merged['legislation_body'] = user_stats_merged['legislation_body'].astype(str)\n",
    "user_stats_merged['party'] = user_stats_merged['party'].astype(str)\n",
    "\n",
    "user_stats_merged = user_stats_merged.dropna()\n",
    "\n",
    "\n",
    "\n",
    "# Create figure with 4 subplots\n",
    "fig = make_subplots(rows=2, cols=2, horizontal_spacing=0.01, vertical_spacing=0.02, \n",
    "                     subplot_titles= ('דמוקרטים','רפובליקנים'), x_title= 'עמדה', y_title= \"עניין\")\n",
    "\n",
    "fig.update_annotations(font_size=25)\n",
    "\n",
    "\n",
    "\n",
    "# Set party and legislation_body lists for iteration \n",
    "parties = ['Democratic', 'Republican']\n",
    "legislation_bodies = ['Senate', 'House of Representatives']\n",
    "\n",
    "\n",
    "# Create a subplot for each party in each body\n",
    "for party_index, party in enumerate(parties, start=1):\n",
    "    for body_index, body in enumerate(legislation_bodies, start = 1):\n",
    "\n",
    "        # Filter data\n",
    "        party_data = user_stats_merged[user_stats_merged['party'] == party]\n",
    "        body_data = party_data[party_data['legislation_body'] == body]\n",
    "\n",
    "        # Create subplot\n",
    "        fig_party_body = px.scatter(body_data, x= 'mean_stance', y = 'interest', color = 'mean_stance' )\n",
    "        \n",
    "       \n",
    "        \n",
    "        if party == 'Republican':\n",
    "            if body == 'Senate': \n",
    "            # Fit axes\n",
    "                stance_threshold = 0\n",
    "                interest_threshold = 0\n",
    "                \n",
    "                fig.update_xaxes(range=[-1.1, 1.1], row=body_index, col=party_index, showticklabels=False,  tickvals= [-1,-0.5, -0, 0.5, 1],  zerolinecolor = 'rgb(100,100,100)' ) #, showgrid = True, zeroline = True)\n",
    "                fig.update_yaxes(range=[0, 1.05], row=body_index, col=party_index, title_text =  \"הסנאט\", side = 'right', title_font_size = 25,\n",
    "                                   tickvals= [0,0.2,0.4,0.6,0.8, 1.1] , ticktext=['0' ,'', '','', '','1']) #showgrid = True, zeroline = False ,\n",
    "                \n",
    "            elif body == 'House of Representatives': \n",
    "                stance_threshold = 0\n",
    "                interest_threshold = 0\n",
    "\n",
    "                fig.update_xaxes(range=[-1.1, 1.1], row=body_index, col=party_index, zeroline = True, tickvals= [-1,-0.5, -0, 0.5, 1],  zerolinecolor = 'rgb(100,100,100)')\n",
    "                fig.update_yaxes(range=[0, 1.05], row=body_index, col=party_index,  title_text =  \"בית הנבחרים\", side = 'right', title_font_size = 25,\n",
    "                                tickvals= [0,0.2,0.4,0.6,0.8, 1.1], ticktext = ['0' ,'', '','', '','1']) #,showgrid = False, zeroline = False)  \n",
    "                \n",
    "        elif party == 'Democratic': \n",
    "            if body == 'Senate': \n",
    "                stance_threshold = -0.1\n",
    "                interest_threshold = 0\n",
    "\n",
    "                fig.update_xaxes(range=[-1.1, 1.1], row=body_index, col=party_index, showticklabels=False,  tickvals= [-1,-0.5, -0, 0.5, 1],  zerolinecolor = 'rgb(100,100,100)') # showgrid = False, zeroline = True)\n",
    "                fig.update_yaxes(range=[0, 1.05], row=body_index, col=party_index,  showgrid = True, zeroline = True )\n",
    "\n",
    "            elif body == 'House of Representatives':\n",
    "                stance_threshold = -0.2\n",
    "                interest_threshold = 0.25\n",
    "\n",
    "                fig.update_xaxes(range=[-1.1, 1.1], row=body_index, col=party_index,  zerolinecolor = 'rgb(100,100,100)')#showgrid = False, zeroline = True) #title_text = 'Average Stance Score',\n",
    "                fig.update_yaxes(range=[0, 1.05], row=body_index, col=party_index) # showgrid = False, zeroline = True) # title_text =  \"Interest in % of Tweets\",\n",
    "        \n",
    "        # Update figure\n",
    "        for trace in fig_party_body['data']:\n",
    "            fig.add_trace(trace, row=body_index, col=party_index)\n",
    "            \n",
    "        \n",
    "        if annotation == True:\n",
    "            for i, row in body_data.iterrows():\n",
    "                if row['mean_stance'] < stance_threshold:\n",
    "                    if row['interest'] > interest_threshold:\n",
    "                        fig.add_annotation(\n",
    "                            x=row['mean_stance'] + 0.25,\n",
    "                            y=row['interest'] -0.052,\n",
    "                            text=str(row['username']), \n",
    "                            row=body_index,\n",
    "                            col=party_index, \n",
    "                            bgcolor= 'rgb(250,250,250)',\n",
    "                            bordercolor = 'rgb(0,0,0)',\n",
    "                            standoff= 100\n",
    "                        )\n",
    "        if party == 'Republican':\n",
    "            fig.add_trace(go.Scatter(x=[-2,2],y= [2,2],fill='tozeroy', fillcolor= 'rgba(255, 134, 128,0.1)', showlegend = False), row=body_index, col=party_index)\n",
    "        if party == 'Democratic':    \n",
    "            fig.add_trace(go.Scatter(x=[-2,2],y= [2,2],fill='tozeroy', fillcolor= 'rgba(154, 188, 244,0.15)', showlegend = False), row=body_index, col=party_index)\n",
    "\n",
    "        \n",
    "# Update figure for better visual appearance\n",
    "fig.update_layout(\n",
    "    width=1100,  \n",
    "    height=800, \n",
    "    #coloraxis_colorscale= [[0.0, \"#FF1206\"],  [0.5, '#C3C3C3'],  [1.0, \"#3663AD\" ]],\n",
    "    coloraxis_colorscale= [[0.0, \"#d62728\"],  [0.5, 'goldenrod'],  [1.0, \"forestgreen\" ]], #,[1.0,'#30823F']],\n",
    "    # Fit title to plot\n",
    "    # Fiddle with margins to make it look better\n",
    "    margin=dict(l=100, r=10, t=80, b=60),\n",
    "    plot_bgcolor = '#F5F5F5' ,\n",
    "    #title={'text': 'Average Stance vs. Interest','font_size': 20 ,\"x\": 0.5},\n",
    "    ) \n",
    "    \n",
    "fig.update_layout(\n",
    "    coloraxis=dict(colorbar=dict(\n",
    "        x=1.15,  # Adjust the x position of the legend\n",
    "        y=1.0,  # Adjust the y position of the legend\n",
    "        xanchor='right',  # Set x anchor to the right side of legend\n",
    "        yanchor='top'  # Set y anchor to the top of legend\n",
    "    ))\n",
    ")\n",
    "\n",
    "fig.show()\n",
    "\n"
   ]
  },
  {
   "cell_type": "markdown",
   "metadata": {},
   "source": []
  },
  {
   "cell_type": "markdown",
   "metadata": {},
   "source": [
    "### Last position"
   ]
  },
  {
   "cell_type": "code",
   "execution_count": null,
   "metadata": {},
   "outputs": [],
   "source": [
    "date_list = data_numeric['date'].drop_duplicates()\n",
    "\n",
    "def get_latest_position(date):\n",
    "    date = str(date)\n",
    "    # Filter and process data for each date\n",
    "    temp = data_numeric[~data_numeric['conflict_sentiment_rank'].isna()]\n",
    "    temp = temp[temp['date'].astype(str) <= date]\n",
    "\n",
    "    # Group, find the max upload_date for each user, and join with metadata\n",
    "    latest_tweet_date = temp.groupby('username').agg({'upload_date': 'max'}).reset_index()\n",
    "    latest_tweets = latest_tweet_date.merge(temp, on=['username', 'upload_date'])\n",
    "    latest_tweets_with_metadata = latest_tweets.merge(metadata, on='username')\n",
    "    latest = latest_tweets_with_metadata[latest_tweets_with_metadata['legislation_body'] != 'government']\n",
    "\n",
    "    # Count the occurrences\n",
    "    results = (latest.groupby(['conflict_sentiment_chr', 'party', 'legislation_body'])\n",
    "              .size().reset_index(name='count'))\n",
    "    results['date'] = date\n",
    "    return results\n",
    "\n",
    "# Apply the function for each date and concatenate results\n",
    "latest_position = pd.concat([get_latest_position(date) for date in date_list])\n",
    "latest_position['conflict_sentiment_chr'] = latest_position['conflict_sentiment_chr'].str.replace(\"pro_israeli\", \"Pro Israeli\").str.replace(\"pro_palestinian\", \"Pro Palestinian\").str.replace(\"complex_attitude\", \"Complex Stance\")\n",
    "\n",
    "\n",
    "# Create figure with 4 subplots\n",
    "fig = make_subplots(rows=2, cols=2, horizontal_spacing=0.15, vertical_spacing=0.1,\n",
    "                     subplot_titles=('Democratic Party - Senate', 'Republican Party - Senate', 'Democratic Party - House', 'Republican Party - House' ))\n",
    "\n",
    "# Set party and legislation_body lists for iteration \n",
    "parties = ['Democratic', 'Republican']\n",
    "legislation_bodies = ['Senate', 'House of Representatives']\n",
    "\n",
    "# Create a subplot for each party in each body\n",
    "for party_index, party in enumerate(parties, start=1):\n",
    "    for body_index, body in enumerate(legislation_bodies, start = 1):\n",
    "\n",
    "        # Filter data\n",
    "        party_data = latest_position[latest_position['party'] == party]\n",
    "        body_data = party_data[party_data['legislation_body'] == body]\n",
    "        \n",
    "        sorted_body_data = body_data.sort_values('count', ascending=False)\n",
    "        # Create subplot\n",
    "        fig_party_body = px.bar(sorted_body_data, x= 'date', y = 'count',  barmode = 'stack',\n",
    "                                color = 'conflict_sentiment_chr' , color_discrete_map = {'Pro Palestinian': '#d62728','Complex Stance': 'goldenrod','Pro Israeli': 'forestgreen' } )\n",
    "        \n",
    "        # Update figure\n",
    "        for trace in fig_party_body['data']:\n",
    "            if party == \"Democratic\":\n",
    "                trace.update(showlegend=False)\n",
    "            elif body == 'Senate': \n",
    "                trace.update(showlegend=False)\n",
    "            else: pass\n",
    "        \n",
    "            fig.add_trace(trace, row=body_index, col=party_index)\n",
    "\n",
    "fig.update_layout(\n",
    "    barmode = 'stack',\n",
    "    width=1000,  \n",
    "    height=800, \n",
    "    # Change colorscale into red, gray and blue\n",
    "    # Fit title to plot\n",
    "    title={'text': 'Stance Dispersion by day ','font_size': 20 ,\"x\": 0.5},\n",
    "    # Fiddle with margins to make it look better\n",
    "    margin=dict(l=100, r=20, t=80, b=60),\n",
    "    plot_bgcolor = 'rgb(240,240,240)' \n",
    ")\n",
    "fig.show()"
   ]
  },
  {
   "cell_type": "markdown",
   "metadata": {},
   "source": [
    "### Changed Opinion"
   ]
  },
  {
   "cell_type": "code",
   "execution_count": 51,
   "metadata": {},
   "outputs": [],
   "source": [
    "user_summary_stat = data_numeric.groupby('username').agg(\n",
    "    mean_like_amount=('like_amount', 'mean'),\n",
    "    mean_retweet=('retweet_amount', 'mean'),\n",
    "    mean_comments=('comments_amount', 'mean'),\n",
    "    n_tweet=('post_id', 'count')  # Assuming there's a tweet_id column\n",
    ")\n",
    "\n",
    "# User interest in Israel (% of tweets on conflict)\n",
    "user_interest = data_numeric.groupby(['username', 'is_conflict_related']).size().reset_index(name='n')\n",
    "user_interest = user_interest.pivot_table(index='username', columns='is_conflict_related', values='n', fill_value=0).reset_index()\n",
    "user_interest['interest'] = user_interest['conflict_related'] / (user_interest['conflict_related'] + user_interest['not_related'])\n",
    "\n",
    "# User stance to Israel\n",
    "data_numeric['conflict_sentiment_rank'] = pd.to_numeric(data_numeric['conflict_sentiment_rank'], errors='coerce')\n",
    "# Filter out anything that isn't a conflict related stance  - (pro-israeli, pro-palestinian, mixed)\n",
    "user_stance_data = data_numeric[~data_numeric['conflict_sentiment_rank'].isna()]\n",
    "\n",
    "user_stance_data = user_stance_data.groupby('username').agg(\n",
    "    # Average stance\n",
    "    mean_stance=('conflict_sentiment_rank', 'mean'),\n",
    "    # Most common stance\n",
    "    mode_stance=('conflict_sentiment_rank', lambda x: stats.mode(x)[0])\n",
    ")\n",
    "\n",
    "# Merge all data\n",
    "user_stats_merged = user_summary_stat.merge(user_stance_data, on='username', how='left')\n",
    "user_stats_merged = user_stats_merged.merge(user_interest, on='username', how='left')\n",
    "user_stats_merged = user_stats_merged.merge(metadata, on='username', how='left')  # Adjust 'metadata' as needed\n",
    "\n",
    "\n",
    "# Convert 'legislation_body' and 'party' to string if not already, to use in facet_grid\n",
    "user_stats_merged['legislation_body'] = user_stats_merged['legislation_body'].astype(str)\n",
    "user_stats_merged['party'] = user_stats_merged['party'].astype(str)\n",
    "\n",
    "user_stats_merged = user_stats_merged.dropna()"
   ]
  },
  {
   "cell_type": "code",
   "execution_count": null,
   "metadata": {},
   "outputs": [],
   "source": []
  },
  {
   "cell_type": "markdown",
   "metadata": {},
   "source": [
    "### Playground Testing"
   ]
  },
  {
   "cell_type": "code",
   "execution_count": 21,
   "metadata": {},
   "outputs": [],
   "source": [
    "from congress_graphs_funcs import *"
   ]
  },
  {
   "cell_type": "code",
   "execution_count": null,
   "metadata": {},
   "outputs": [],
   "source": []
  }
 ],
 "metadata": {
  "kernelspec": {
   "display_name": "Python 3 (ipykernel)",
   "language": "python",
   "name": "python3"
  },
  "language_info": {
   "codemirror_mode": {
    "name": "ipython",
    "version": 3
   },
   "file_extension": ".py",
   "mimetype": "text/x-python",
   "name": "python",
   "nbconvert_exporter": "python",
   "pygments_lexer": "ipython3",
   "version": "3.11.4"
  }
 },
 "nbformat": 4,
 "nbformat_minor": 4
}
